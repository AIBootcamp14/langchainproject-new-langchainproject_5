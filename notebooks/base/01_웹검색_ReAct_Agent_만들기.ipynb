{
  "nbformat": 4,
  "nbformat_minor": 0,
  "metadata": {
    "colab": {
      "provenance": []
    },
    "kernelspec": {
      "name": "python3",
      "display_name": "Python 3"
    },
    "language_info": {
      "name": "python"
    }
  },
  "cells": [
    {
      "cell_type": "markdown",
      "source": [
        "# **[실습] 웹검색 도구를 기반으로 구현하는 ReAct Agent**"
      ],
      "metadata": {
        "id": "2JjHzDEcpuYp"
      }
    },
    {
      "cell_type": "code",
      "execution_count": null,
      "metadata": {
        "collapsed": true,
        "id": "yyLvIYgzH2YX",
        "colab": {
          "base_uri": "https://localhost:8080/"
        },
        "outputId": "496c5854-0741-4ccb-ac34-3ed3de17f124"
      },
      "outputs": [
        {
          "output_type": "stream",
          "name": "stdout",
          "text": [
            "\u001b[2K     \u001b[90m━━━━━━━━━━━━━━━━━━━━━━━━━━━━━━━━━━━━━━━━\u001b[0m \u001b[32m43.7/43.7 kB\u001b[0m \u001b[31m2.2 MB/s\u001b[0m eta \u001b[36m0:00:00\u001b[0m\n",
            "\u001b[2K   \u001b[90m━━━━━━━━━━━━━━━━━━━━━━━━━━━━━━━━━━━━━━━━\u001b[0m \u001b[32m2.5/2.5 MB\u001b[0m \u001b[31m34.1 MB/s\u001b[0m eta \u001b[36m0:00:00\u001b[0m\n",
            "\u001b[2K   \u001b[90m━━━━━━━━━━━━━━━━━━━━━━━━━━━━━━━━━━━━━━━━\u001b[0m \u001b[32m153.2/153.2 kB\u001b[0m \u001b[31m7.7 MB/s\u001b[0m eta \u001b[36m0:00:00\u001b[0m\n",
            "\u001b[2K   \u001b[90m━━━━━━━━━━━━━━━━━━━━━━━━━━━━━━━━━━━━━━━━\u001b[0m \u001b[32m74.3/74.3 kB\u001b[0m \u001b[31m4.6 MB/s\u001b[0m eta \u001b[36m0:00:00\u001b[0m\n",
            "\u001b[2K   \u001b[90m━━━━━━━━━━━━━━━━━━━━━━━━━━━━━━━━━━━━━━━━\u001b[0m \u001b[32m443.5/443.5 kB\u001b[0m \u001b[31m21.0 MB/s\u001b[0m eta \u001b[36m0:00:00\u001b[0m\n",
            "\u001b[2K   \u001b[90m━━━━━━━━━━━━━━━━━━━━━━━━━━━━━━━━━━━━━━━━\u001b[0m \u001b[32m43.9/43.9 kB\u001b[0m \u001b[31m2.3 MB/s\u001b[0m eta \u001b[36m0:00:00\u001b[0m\n",
            "\u001b[2K   \u001b[90m━━━━━━━━━━━━━━━━━━━━━━━━━━━━━━━━━━━━━━━━\u001b[0m \u001b[32m50.6/50.6 kB\u001b[0m \u001b[31m2.7 MB/s\u001b[0m eta \u001b[36m0:00:00\u001b[0m\n",
            "\u001b[2K   \u001b[90m━━━━━━━━━━━━━━━━━━━━━━━━━━━━━━━━━━━━━━━━\u001b[0m \u001b[32m45.2/45.2 kB\u001b[0m \u001b[31m2.5 MB/s\u001b[0m eta \u001b[36m0:00:00\u001b[0m\n",
            "\u001b[2K   \u001b[90m━━━━━━━━━━━━━━━━━━━━━━━━━━━━━━━━━━━━━━━━\u001b[0m \u001b[32m295.8/295.8 kB\u001b[0m \u001b[31m16.0 MB/s\u001b[0m eta \u001b[36m0:00:00\u001b[0m\n",
            "\u001b[2K   \u001b[90m━━━━━━━━━━━━━━━━━━━━━━━━━━━━━━━━━━━━━━━━\u001b[0m \u001b[32m3.0/3.0 MB\u001b[0m \u001b[31m38.2 MB/s\u001b[0m eta \u001b[36m0:00:00\u001b[0m\n",
            "\u001b[2K   \u001b[90m━━━━━━━━━━━━━━━━━━━━━━━━━━━━━━━━━━━━━━━━\u001b[0m \u001b[32m50.9/50.9 kB\u001b[0m \u001b[31m3.1 MB/s\u001b[0m eta \u001b[36m0:00:00\u001b[0m\n",
            "\u001b[2K   \u001b[90m━━━━━━━━━━━━━━━━━━━━━━━━━━━━━━━━━━━━━━━━\u001b[0m \u001b[32m216.5/216.5 kB\u001b[0m \u001b[31m11.2 MB/s\u001b[0m eta \u001b[36m0:00:00\u001b[0m\n",
            "\u001b[?25h\u001b[31mERROR: pip's dependency resolver does not currently take into account all the packages that are installed. This behaviour is the source of the following dependency conflicts.\n",
            "transformers 4.55.0 requires tokenizers<0.22,>=0.21, but you have tokenizers 0.20.3 which is incompatible.\u001b[0m\u001b[31m\n",
            "\u001b[0m"
          ]
        }
      ],
      "source": [
        "!pip install -qU langchain_community langgraph langchain_openai langchain_upstage langchain_tavily"
      ]
    },
    {
      "cell_type": "code",
      "source": [
        "import getpass\n",
        "import os\n",
        "\n",
        "\n",
        "def _set_env(var: str):\n",
        "    if not os.environ.get(var):\n",
        "        os.environ[var] = getpass.getpass(f\"{var}: \")\n",
        "\n",
        "\n",
        "_set_env(\"OPENAI_API_KEY\")\n",
        "_set_env(\"SOLAR_API_KEY\")\n",
        "_set_env(\"TAVILY_API_KEY\")"
      ],
      "metadata": {
        "id": "lKw-cD8JqPDz",
        "colab": {
          "base_uri": "https://localhost:8080/"
        },
        "outputId": "9b6a3665-b5d9-424e-8c02-e4ccfe43dfe0"
      },
      "execution_count": null,
      "outputs": [
        {
          "name": "stdout",
          "output_type": "stream",
          "text": [
            "OPENAI_API_KEY: ··········\n",
            "SOLAR_API_KEY: ··········\n",
            "TAVILY_API_KEY: ··········\n"
          ]
        }
      ]
    },
    {
      "cell_type": "markdown",
      "source": [
        "### **LLM 사용하는 법**"
      ],
      "metadata": {
        "id": "5eK12_9Zj5vz"
      }
    },
    {
      "cell_type": "code",
      "source": [
        "from langchain_upstage import ChatUpstage\n",
        "\n",
        "llm = ChatUpstage(model=\"solar-pro-250422\")\n",
        "response = llm.invoke(\"Hello, how are you?\")\n",
        "print(response)"
      ],
      "metadata": {
        "colab": {
          "base_uri": "https://localhost:8080/"
        },
        "id": "4Dodr69WXNbJ",
        "outputId": "763085a1-3658-4ad4-d7e7-ef12d1c39c41"
      },
      "execution_count": null,
      "outputs": [
        {
          "output_type": "stream",
          "name": "stdout",
          "text": [
            "content=\"Hello! I'm an AI, so I don't have feelings, but I'm here and ready to help you. How can I assist you today? \\n\" additional_kwargs={'refusal': None} response_metadata={'token_usage': {'completion_tokens': 39, 'prompt_tokens': 15, 'total_tokens': 54, 'completion_tokens_details': {'accepted_prediction_tokens': 0, 'audio_tokens': 0, 'reasoning_tokens': 0, 'rejected_prediction_tokens': 0}, 'prompt_tokens_details': {'audio_tokens': 0, 'cached_tokens': 0}}, 'model_name': 'solar-pro-250422', 'system_fingerprint': None, 'id': '0fae4ab0-804e-4745-a7b1-82653578cec6', 'service_tier': None, 'finish_reason': 'stop', 'logprobs': None} id='run--9fe78bc0-ce01-4743-8343-84690f8ebf17-0' usage_metadata={'input_tokens': 15, 'output_tokens': 39, 'total_tokens': 54, 'input_token_details': {'audio': 0, 'cache_read': 0}, 'output_token_details': {'audio': 0, 'reasoning': 0}}\n"
          ]
        }
      ]
    },
    {
      "cell_type": "code",
      "source": [
        "from langchain_openai import ChatOpenAI\n",
        "\n",
        "llm = ChatOpenAI(model=\"gpt-4o\")\n",
        "response = llm.invoke(\"Hello, how are you?\")\n",
        "print(response)"
      ],
      "metadata": {
        "colab": {
          "base_uri": "https://localhost:8080/"
        },
        "id": "pFdyKZRHXQKH",
        "outputId": "dd711b06-f43f-4231-9308-f0f26dc3d21d"
      },
      "execution_count": null,
      "outputs": [
        {
          "output_type": "stream",
          "name": "stdout",
          "text": [
            "content=\"Hello! I'm an AI, so I don't have feelings, but I'm here and ready to help you. How can I assist you today?\" additional_kwargs={'refusal': None} response_metadata={'token_usage': {'completion_tokens': 28, 'prompt_tokens': 13, 'total_tokens': 41, 'completion_tokens_details': {'accepted_prediction_tokens': 0, 'audio_tokens': 0, 'reasoning_tokens': 0, 'rejected_prediction_tokens': 0}, 'prompt_tokens_details': {'audio_tokens': 0, 'cached_tokens': 0}}, 'model_name': 'gpt-4o-2024-08-06', 'system_fingerprint': 'fp_ff25b2783a', 'id': 'chatcmpl-C3ggeF1X3d2fccHhPQJEqjoZVGrAK', 'service_tier': 'default', 'finish_reason': 'stop', 'logprobs': None} id='run--e4932e42-5d82-4c76-90b6-1b580f97c597-0' usage_metadata={'input_tokens': 13, 'output_tokens': 28, 'total_tokens': 41, 'input_token_details': {'audio': 0, 'cache_read': 0}, 'output_token_details': {'audio': 0, 'reasoning': 0}}\n"
          ]
        }
      ]
    },
    {
      "cell_type": "markdown",
      "source": [
        "## 🔎 웹검색을 위한 Tavily Search\n"
      ],
      "metadata": {
        "id": "OGjd93BrMoUO"
      }
    },
    {
      "cell_type": "markdown",
      "source": [
        "Tavily Search : 실시간 웹 검색 엔진 https://docs.tavily.com/documentation/api-reference/endpoint/search\n",
        "\n",
        "https://python.langchain.com/docs/integrations/tools/tavily_search/\n",
        "\n",
        "\n",
        "파라미터 :\n",
        "\n",
        "- `max_results` (optional, int): 검색 결과 반환 수\n",
        "\n",
        "- `topic` (optional, str): 검색 카테고리 / \"general\"(Default), \"news\", \"finance\"\n",
        "\n",
        "- `include_answer` (optional, bool): 쿼리에 대한 답변 포함 여부\n",
        "\n",
        "- `include_raw_content` (optional, bool): 결과 HTML 포함 여부\n",
        "\n",
        "- `include_images` (optional, bool): 쿼리 관련 이미지 목록 포함 여부\n",
        "\n",
        "- `include_image_descriptions` (optional, bool): 각 이미지에 대한 설명 텍스트 포함 여부\n",
        "\n",
        "- `search_depth` (optional, str): 검색 깊이 / \"basic\"(Default),\"advanced\"\n",
        "\n",
        "- `time_range` (optional, str): 필터링 날짜 범위 - \"day\", \"week\", \"month\", \"year\"\n",
        "\n",
        "- `include_domains` (optional, List[str]): 구체적으로 포함할 도메인 목록\n",
        "\n",
        "- `exclude_domains` (optional, List[str]): 구체적으로 제외할 도메인 목록"
      ],
      "metadata": {
        "id": "iMQ5vD8Yq2Yc"
      }
    },
    {
      "cell_type": "code",
      "source": [
        "from langchain_tavily import TavilySearch\n",
        "\n",
        "tool = TavilySearch(max_results=3)\n",
        "tool.invoke(\"2025년 여름 한강 축제\")"
      ],
      "metadata": {
        "colab": {
          "base_uri": "https://localhost:8080/"
        },
        "id": "TRbawqsKIwrQ",
        "outputId": "463f0774-4ea5-46c3-e356-a9934aabc3d8"
      },
      "execution_count": null,
      "outputs": [
        {
          "output_type": "execute_result",
          "data": {
            "text/plain": [
              "{'query': '2025년 여름 한강 축제',\n",
              " 'follow_up_questions': None,\n",
              " 'answer': None,\n",
              " 'images': [],\n",
              " 'results': [{'url': 'https://walkershigh.tistory.com/237',\n",
              "   'title': '2025 여름축제 추천 한강몽땅페스티벌 일정·위치·예약 정보까지 한눈에!',\n",
              "   'content': '행사 개요 · 기간: 2025년 8월 1일(금) ~ 8월 17일(일) – 총 17일간 개최 · 장소: 여의도·뚝섬·반포 등 한강공원 주요 구간 · 주최: 서울특별시 미래한강본부',\n",
              "   'score': 0.91137725,\n",
              "   'raw_content': None},\n",
              "  {'url': 'https://sldkqm7.tistory.com/v/106',\n",
              "   'title': '2025년 여름 수국 및 물축제 총정리',\n",
              "   'content': '4. 2025한강페스티벌 여름축제 (서울) · 기간: 8월 1일 ~ 8월 17일 · 장소: 여의도·반포·잠실 등 한강공원 일대 · 특징: PET 보트 레이스, 42km 야간 산책, 뮤직 피크닉 · 2025',\n",
              "   'score': 0.8834878,\n",
              "   'raw_content': None},\n",
              "  {'url': 'https://www.instagram.com/hangangfestival/',\n",
              "   'title': '한강페스티벌 (@hangangfestival) · Seoul - Instagram',\n",
              "   'content': '2025 한강페스티벌-여름 2025. 8. 12.(화)~2025. 8. 18.(월) 4주차 프로그램 안내 여름이 선물하는 가장 반짝이는 시간, 볼거리, 즐길 거리 가득한 한강에서 잊지',\n",
              "   'score': 0.8732259,\n",
              "   'raw_content': None}],\n",
              " 'response_time': 1.2}"
            ]
          },
          "metadata": {},
          "execution_count": 6
        }
      ]
    },
    {
      "cell_type": "markdown",
      "source": [
        "### LLM이 질문에 적합한 Tool을 호출하기 (Binding Tools)\n",
        "\n",
        "- https://python.langchain.com/v0.1/docs/modules/model_io/chat/function_calling/#request-passing-tool-outputs-to-model"
      ],
      "metadata": {
        "id": "Rlddsc8ur_N7"
      }
    },
    {
      "cell_type": "code",
      "source": [
        "from langchain_core.tools import tool\n",
        "\n",
        "@tool\n",
        "def add(a: int, b: int) -> int:\n",
        "    \"\"\"Adds a and b.\n",
        "\n",
        "    Args:\n",
        "        a: first int\n",
        "        b: second int\n",
        "    \"\"\"\n",
        "    return a + b\n",
        "\n",
        "@tool\n",
        "def multiply(a: int, b: int) -> int:\n",
        "    \"\"\"Multiplies a and b.\n",
        "\n",
        "    Args:\n",
        "        a: first int\n",
        "        b: second int\n",
        "    \"\"\"\n",
        "    return a * b\n",
        "\n",
        "tools = [add, multiply]"
      ],
      "metadata": {
        "id": "5W2-DY5OsJ2t"
      },
      "execution_count": null,
      "outputs": []
    },
    {
      "cell_type": "code",
      "source": [
        "# llm = ChatOpenAI(model=\"gpt-4o\")\n",
        "llm = ChatUpstage(model=\"solar-pro-250422\")\n",
        "llm_with_tools = llm.bind_tools(tools)"
      ],
      "metadata": {
        "id": "o4xWlCCevNin"
      },
      "execution_count": null,
      "outputs": []
    },
    {
      "cell_type": "code",
      "source": [
        "query = \"3*12 는 무엇인가요? 11 + 49도 알려주세요.\"\n",
        "\n",
        "test1 = llm_with_tools.invoke(query)"
      ],
      "metadata": {
        "id": "qRPsF2IEsQPP"
      },
      "execution_count": null,
      "outputs": []
    },
    {
      "cell_type": "code",
      "source": [
        "test1"
      ],
      "metadata": {
        "colab": {
          "base_uri": "https://localhost:8080/"
        },
        "id": "UzuaSxdn6zTg",
        "outputId": "6ef48602-4422-412c-d8d8-bc70a773a485"
      },
      "execution_count": null,
      "outputs": [
        {
          "output_type": "execute_result",
          "data": {
            "text/plain": [
              "AIMessage(content='', additional_kwargs={'tool_calls': [{'id': 'e7a3a0ff-4f52-4c48-a99c-c240a4a4aa93', 'function': {'arguments': '{\"a\":3,\"b\":12}', 'name': 'multiply'}, 'type': 'function'}, {'id': '2a4b15d8-b71a-4140-949a-140fd2f6d0cc', 'function': {'arguments': '{\"a\":11,\"b\":49}', 'name': 'add'}, 'type': 'function'}], 'refusal': None}, response_metadata={'token_usage': {'completion_tokens': 91, 'prompt_tokens': 372, 'total_tokens': 463, 'completion_tokens_details': {'accepted_prediction_tokens': 0, 'audio_tokens': 0, 'reasoning_tokens': 0, 'rejected_prediction_tokens': 0}, 'prompt_tokens_details': {'audio_tokens': 0, 'cached_tokens': 0}}, 'model_name': 'solar-pro-250422', 'system_fingerprint': None, 'id': '310b8207-c21c-498d-ba65-dbb39accc408', 'service_tier': None, 'finish_reason': 'tool_calls', 'logprobs': None}, id='run--c1e5527f-a7d3-4d08-9c8d-66c808320c99-0', tool_calls=[{'name': 'multiply', 'args': {'a': 3, 'b': 12}, 'id': 'e7a3a0ff-4f52-4c48-a99c-c240a4a4aa93', 'type': 'tool_call'}, {'name': 'add', 'args': {'a': 11, 'b': 49}, 'id': '2a4b15d8-b71a-4140-949a-140fd2f6d0cc', 'type': 'tool_call'}], usage_metadata={'input_tokens': 372, 'output_tokens': 91, 'total_tokens': 463, 'input_token_details': {'audio': 0, 'cache_read': 0}, 'output_token_details': {'audio': 0, 'reasoning': 0}})"
            ]
          },
          "metadata": {},
          "execution_count": 10
        }
      ]
    },
    {
      "cell_type": "code",
      "source": [
        "test1.tool_calls"
      ],
      "metadata": {
        "colab": {
          "base_uri": "https://localhost:8080/"
        },
        "id": "HPywIjBF60N8",
        "outputId": "7eea09c5-34a8-4a57-d5f8-869e440e9275"
      },
      "execution_count": null,
      "outputs": [
        {
          "output_type": "execute_result",
          "data": {
            "text/plain": [
              "[{'name': 'multiply',\n",
              "  'args': {'a': 3, 'b': 12},\n",
              "  'id': 'e7a3a0ff-4f52-4c48-a99c-c240a4a4aa93',\n",
              "  'type': 'tool_call'},\n",
              " {'name': 'add',\n",
              "  'args': {'a': 11, 'b': 49},\n",
              "  'id': '2a4b15d8-b71a-4140-949a-140fd2f6d0cc',\n",
              "  'type': 'tool_call'}]"
            ]
          },
          "metadata": {},
          "execution_count": 11
        }
      ]
    },
    {
      "cell_type": "code",
      "source": [
        "query = \"안녕\"\n",
        "\n",
        "test2 = llm_with_tools.invoke(query)"
      ],
      "metadata": {
        "id": "kUI1cqPJsOUr"
      },
      "execution_count": null,
      "outputs": []
    },
    {
      "cell_type": "code",
      "source": [
        "test2"
      ],
      "metadata": {
        "colab": {
          "base_uri": "https://localhost:8080/"
        },
        "id": "MOPQ-nCP67ny",
        "outputId": "f5ec43ef-dde3-4c09-d452-46021b233c02"
      },
      "execution_count": null,
      "outputs": [
        {
          "output_type": "execute_result",
          "data": {
            "text/plain": [
              "AIMessage(content='안녕하세요! 어떤 도움이 필요하신가요?', additional_kwargs={'refusal': None}, response_metadata={'token_usage': {'completion_tokens': 11, 'prompt_tokens': 355, 'total_tokens': 366, 'completion_tokens_details': {'accepted_prediction_tokens': 0, 'audio_tokens': 0, 'reasoning_tokens': 0, 'rejected_prediction_tokens': 0}, 'prompt_tokens_details': {'audio_tokens': 0, 'cached_tokens': 0}}, 'model_name': 'solar-pro-250422', 'system_fingerprint': None, 'id': '11f1b293-6e11-4229-95b1-ef45035d8829', 'service_tier': None, 'finish_reason': 'tool_calls', 'logprobs': None}, id='run--d5e24335-7940-4c1e-a8e6-c6113a415020-0', usage_metadata={'input_tokens': 355, 'output_tokens': 11, 'total_tokens': 366, 'input_token_details': {'audio': 0, 'cache_read': 0}, 'output_token_details': {'audio': 0, 'reasoning': 0}})"
            ]
          },
          "metadata": {},
          "execution_count": 13
        }
      ]
    },
    {
      "cell_type": "code",
      "source": [
        "test2.tool_calls"
      ],
      "metadata": {
        "colab": {
          "base_uri": "https://localhost:8080/"
        },
        "id": "FZxT1W7368Op",
        "outputId": "cc1b17cb-4071-4b90-bcc8-f248acc4b388"
      },
      "execution_count": null,
      "outputs": [
        {
          "output_type": "execute_result",
          "data": {
            "text/plain": [
              "[]"
            ]
          },
          "metadata": {},
          "execution_count": 14
        }
      ]
    },
    {
      "cell_type": "markdown",
      "source": [
        "### **Tavily Search 적용하기**"
      ],
      "metadata": {
        "id": "8wtFKs8agcg4"
      }
    },
    {
      "cell_type": "code",
      "source": [
        "tool = TavilySearch(max_results=2)\n",
        "tools = [tool]\n",
        "\n",
        "# llm = ChatOpenAI(model=\"gpt-4o\")\n",
        "llm = ChatUpstage(model=\"solar-pro-250422\")\n",
        "llm_with_tools = llm.bind_tools(tools) # TavilySearch(tools) 을 호출할 수 있도록 함"
      ],
      "metadata": {
        "id": "LXWvc8RcrrSF"
      },
      "execution_count": null,
      "outputs": []
    },
    {
      "cell_type": "code",
      "source": [
        "test3 = llm_with_tools.invoke(\"안녕\")"
      ],
      "metadata": {
        "id": "OnNhFhMLoMXt"
      },
      "execution_count": null,
      "outputs": []
    },
    {
      "cell_type": "code",
      "source": [
        "test3"
      ],
      "metadata": {
        "colab": {
          "base_uri": "https://localhost:8080/"
        },
        "id": "bJ-2uUaacpdQ",
        "outputId": "55c05039-5e85-465c-b662-03eac1eaac0f"
      },
      "execution_count": null,
      "outputs": [
        {
          "output_type": "execute_result",
          "data": {
            "text/plain": [
              "AIMessage(content='안녕하세요! 어떤 도움이 필요하신가요?', additional_kwargs={'refusal': None}, response_metadata={'token_usage': {'completion_tokens': 11, 'prompt_tokens': 2074, 'total_tokens': 2085, 'completion_tokens_details': {'accepted_prediction_tokens': 0, 'audio_tokens': 0, 'reasoning_tokens': 0, 'rejected_prediction_tokens': 0}, 'prompt_tokens_details': {'audio_tokens': 0, 'cached_tokens': 0}}, 'model_name': 'solar-pro-250422', 'system_fingerprint': None, 'id': 'e598fe65-91a5-47ab-a13e-6b515d65dbfd', 'service_tier': None, 'finish_reason': 'tool_calls', 'logprobs': None}, id='run--047edd3d-5915-473f-95fb-7a8fba5ae7b9-0', usage_metadata={'input_tokens': 2074, 'output_tokens': 11, 'total_tokens': 2085, 'input_token_details': {'audio': 0, 'cache_read': 0}, 'output_token_details': {'audio': 0, 'reasoning': 0}})"
            ]
          },
          "metadata": {},
          "execution_count": 17
        }
      ]
    },
    {
      "cell_type": "code",
      "source": [
        "test3.tool_calls"
      ],
      "metadata": {
        "colab": {
          "base_uri": "https://localhost:8080/"
        },
        "id": "pUaKwwHFbrFH",
        "outputId": "4ce8fcb9-e632-4801-f9d3-d8aca541c54a"
      },
      "execution_count": null,
      "outputs": [
        {
          "output_type": "execute_result",
          "data": {
            "text/plain": [
              "[]"
            ]
          },
          "metadata": {},
          "execution_count": 18
        }
      ]
    },
    {
      "cell_type": "code",
      "source": [
        "test4 = llm_with_tools.invoke(\"AI Agent를 사용하는 기업에는 어떤 곳이 있나요?\")"
      ],
      "metadata": {
        "id": "AX5O_5v1oOxA"
      },
      "execution_count": null,
      "outputs": []
    },
    {
      "cell_type": "code",
      "source": [
        "test4"
      ],
      "metadata": {
        "colab": {
          "base_uri": "https://localhost:8080/"
        },
        "id": "hdLiqbgTcsNE",
        "outputId": "6dc75a3c-5cf2-455e-de65-ecff49dbada1"
      },
      "execution_count": null,
      "outputs": [
        {
          "output_type": "execute_result",
          "data": {
            "text/plain": [
              "AIMessage(content='', additional_kwargs={'tool_calls': [{'id': '4f1c2e79-7e1b-4e7b-91e9-b528f1819322', 'function': {'arguments': '{\"query\":\"AI Agent companies\",\"search_depth\":\"advanced\",\"topic\":\"general\"}', 'name': 'tavily_search'}, 'type': 'function'}], 'refusal': None}, response_metadata={'token_usage': {'completion_tokens': 81, 'prompt_tokens': 2082, 'total_tokens': 2163, 'completion_tokens_details': {'accepted_prediction_tokens': 0, 'audio_tokens': 0, 'reasoning_tokens': 0, 'rejected_prediction_tokens': 0}, 'prompt_tokens_details': {'audio_tokens': 0, 'cached_tokens': 0}}, 'model_name': 'solar-pro-250422', 'system_fingerprint': None, 'id': '49369755-d9df-42da-a0ca-9165ae553f90', 'service_tier': None, 'finish_reason': 'tool_calls', 'logprobs': None}, id='run--40e8db23-0fe8-47ee-846f-1d3b2d4fe8d2-0', tool_calls=[{'name': 'tavily_search', 'args': {'query': 'AI Agent companies', 'search_depth': 'advanced', 'topic': 'general'}, 'id': '4f1c2e79-7e1b-4e7b-91e9-b528f1819322', 'type': 'tool_call'}], usage_metadata={'input_tokens': 2082, 'output_tokens': 81, 'total_tokens': 2163, 'input_token_details': {'audio': 0, 'cache_read': 0}, 'output_token_details': {'audio': 0, 'reasoning': 0}})"
            ]
          },
          "metadata": {},
          "execution_count": 20
        }
      ]
    },
    {
      "cell_type": "code",
      "source": [
        "test4.tool_calls"
      ],
      "metadata": {
        "colab": {
          "base_uri": "https://localhost:8080/"
        },
        "id": "6U15z43Ms1y_",
        "outputId": "aaedf2c4-b5de-44d6-8fe9-ffadd91255d7"
      },
      "execution_count": null,
      "outputs": [
        {
          "output_type": "execute_result",
          "data": {
            "text/plain": [
              "[{'name': 'tavily_search',\n",
              "  'args': {'query': 'AI Agent companies',\n",
              "   'search_depth': 'advanced',\n",
              "   'topic': 'general'},\n",
              "  'id': '4f1c2e79-7e1b-4e7b-91e9-b528f1819322',\n",
              "  'type': 'tool_call'}]"
            ]
          },
          "metadata": {},
          "execution_count": 21
        }
      ]
    },
    {
      "cell_type": "code",
      "source": [],
      "metadata": {
        "id": "28tDgBBVssGe"
      },
      "execution_count": null,
      "outputs": []
    },
    {
      "cell_type": "code",
      "source": [],
      "metadata": {
        "id": "bwBfpzgCr4gM"
      },
      "execution_count": null,
      "outputs": []
    },
    {
      "cell_type": "markdown",
      "source": [
        "## 🤖 웹 검색을 기반으로 답변하는 Agent 만들기\n",
        "\n",
        "- Tool을 호출하고 그 결과를 모델(LLM)로 전달하기\n",
        "\n",
        "\n",
        "\n",
        "![그림111.png](data:image/png;base64,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)\n"
      ],
      "metadata": {
        "id": "pCwkNrcaNwCB"
      }
    },
    {
      "cell_type": "markdown",
      "source": [
        "### **State** - 그래프의 상태 (기억(추적)해야하는 값)"
      ],
      "metadata": {
        "id": "2tocTpcizECJ"
      }
    },
    {
      "cell_type": "markdown",
      "source": [
        "![그림4.png](data:image/png;base64,iVBORw0KGgoAAAANSUhEUgAAA+4AAACzCAYAAAAXHEYKAAAAAXNSR0IArs4c6QAAAARnQU1BAACxjwv8YQUAAAAJcEhZcwAADsMAAA7DAcdvqGQAAHDoSURBVHhe7Z0HmFTV+f9/iUmMiTFG/0ZjT9RETYyJ0SQmJjGxBGNNjF2w0Ovu0rsIiIUqSu+9ih3BAkgVpUgXkC5IB+lt9/2fz2EOuYwzw7Isu7Ps9/M855nde+/cuf2e79vO/5kQQgghhBBCCCHSkhyHhLsQQgghhBBCCJGmSLgLIYQQQgghhBBpjIS7EEIIIYQQQgiRxki4CyGEEEIIIYQQaYyEuxBCCCGEEEIIkcZIuAshhBBCCCGEEGmMhLsQQgghhBBCCJHGSLgLIYQQQgghhBBpjIS7EEIIIYQQQgiRxki4CyGEEEIIIYQQaYyEuxBCCCGEEEIIkcZIuAshhBBCCCGEEGmMhLsQQgghhBBCCJHGSLgLIYQQQgghhBBpjIS7EEIIIYQQQgiRxki4CyGEEEIIIYQQaYyEuxBCCCGEEEIIkcZIuAshhBBCCCGEEGmMhLsQQgghhBBCCJHGSLgLIYQQQgghhBBpjIS7EEIIIQ6xbds2GzRokFWtWtW6detmu3fvjs0RQgghRGEh4S6EEEIIz5YtW+zmm2+2//u///OtXLlytnPnzthcIYQQQhQWEu5CCCGE8OBh/+Y3v2mnnnqqPfbYYzZx4kQ7cOBAbK4QQgghCgsJdyGEEEJ4ypcv7z3tf/jDH2zPnj2xqUIIIYQobCTchRBCCOF59NFHvXAvUaJEbIoQQggh0gEJdyGEEEJ4gnC/7bbbYlOEEEIIkQ5IuAshhBDCU7JkSXnchRBCiDREwl0IIYQQlp2dbf/85z/lcRdCCCHSEAl3IYQQohhD1fgxY8ZYVlaWnXLKKb6qfLt27WJzhRBCCJEOSLgLIYTIV7Zu3WqzZs2ykSNHWu/eva1169bWqFEjy8zMtAoVKljp0qXtySef9J/8j2Bs3LixtWnTxi8/atQomz17tn311VexNYrjya5duw6FyF977bU2fPhwjd0uhBBCpBkS7kIIIfIM3lpENuN/V6xY0W688Ub71a9+ZRdffLGdddZZfjzwb3/7214UHqmxHMv/+Mc/9t+/6qqr7KabbrLKlStbz549be7cuby0Yr8s8ovdu3dbuXLl/DngnDF++5dffhmbK4QQQoh0QMJdCCFErkHkrV271oYMGWKPP/64/exnP7PTTjvNvve979n3v/99O+OMM+zqq6+2Bx54wOrXr2+dO3e2119/3SZPnmzz58+3FStW+O+vX7/ef/L/vHnzbNKkSfbaa69Zp06drF69enb//fd74X766acfWje/c+mll3pPPV7hdevWaazxfABjyPbt232ExDnnnOMFPMYSIYQQQqQPEu5CCCFSglhfvHix9e/f3/797397r/hJJ51kP/nJT+zXv/61Pfzww9a+fXsvzvM7vJ2w+wkTJvic6wcffNCLecQledgI+fvuu88GDx5sn3/+ue3duzf2LZFXOJ4Id1WVF0IIIdILCXchhBAJwSv+1ltvWZUqVeyCCy7wgu6yyy6zu+++21q0aGHjx4/3or4gIfd67Nix1rx5c7vzzjvtkksu8dtFaH1GRob3Gm/cuDG2tDhaNI67EEIIkZ5IuAshhDgM8pvxoDM02Mknn+w97Pfee6+9/PLL9vHHH/thw9IB8us/+ugje/HFF+2ee+7xIfVURf/Xv/5lHTt29IYHcXRIuAshhBDpiYS7EEIIz5YtW+zZZ5+1a665xr71rW/Z+eef7/PUCYHfvHlzbKn0ZNOmTTZx4kSrXbu2D+Gn0B0V0lu2bGnbtm2LLSWORKguf8stt8SmCCGEECIdkHAXQohiDgXeqNp++eWX23e+8x0fFt+qVStbvny57d+/P7ZU0WDfvn22dOlSb4BAwLM/VLknP1858EeGofkQ7hwzzr/rI8TmCCGEEKIwkXAXQohiCiJ33Lhxfgg3ir3hYSd3/ETJESdUnvHhzz33XL9/t956q69eX9SMEQUJNQ1Ij0C8X3nllda3b18ZPIQQQog0QMJdCCGKIUuWLPFh5Yg0PNOVKlXynuoTkUWLFlnZsmX9+PDkwDds2NB7k8XXoX5BrVq1/LB7DMHHmO47duyIzRVCCCFEYSHhLoQQxQj3zLehQ4fa73//e+9VpUL8u+++G5t7YkPFeQrXsd9/+tOf/LjxIjHTp0+3gQMH2pgxY3xkhhBCCCEKFwl3IYQoJlDArWbNmnb66afbeeedZ506dfLTihOEz1Mxn7HgzzzzTF98L7/HnhdCCCGEyG8k3IUQohiwYMEC+8tf/uJzvUuUKGEzZ86MzSmeMKzdP/7xDzvppJPs73//u08dEEIIIYRIVyTchRDiBMY94+3NN9+0Cy+80L773e/6vPbt27fH5hZvtm7dahkZGT7P/5JLLrFRo0b54yWEEEIIkW5IuAshxAkK1cA7d+5sp512mq8YT4Vw8XV69OjhC/SdccYZflg8VZ0XQgghRLoh4S6EECcgu3btsiZNmvjK4Ndcc42NHTs2NkckYvTo0fbrX//afvCDH9hzzz2nIdCEEEIIkVZIuAshxAnG7t27rXLlyj5/+7bbbrOFCxfG5ohUzJ071+e9f/vb37bq1aurmroQBQxDD77zzjvWp08f69evn/8k1UfpPUIIIeEuhBAnFHv27LEyZcr4Ic/uvPNOW7NmTWyOyA0rV660W2+91b7xjW9YlSpVFDZfyCDaMKZQfwBDykMPPWTly5e3L7/8MraEKGjGjRvnz0n37t1t586dvm7Gfffdly8GQu6/G2+80U499VQfLXTKKafYddddZ8uWLYstIYQQxRcJdyGEOEFAZFaoUMGLdsYr37hxY2yOOBrWrl1rN910kxfvmZmZlp2dHZsjCpqXX37ZX8+IRIxSZ599tv3yl7/UKACFyKBBg/w5qVWrlh9KEaFNfQhGajhWVqxYYddee61fP+stV66cNW/eXM8yIYRwSLgLIcQJADnZdKTp8OIx3rx5c2yOyAuM945wQLw3btxYnvdCguKKXNO9evXywv2iiy7yNRuWLl0aW0IUNEOHDvXnpH79+l64//Of/7Rzzz3Xpk2bFlsi7yDcf//73/v1UyhSCCHE/5BwF0KIE4AXX3zRD/dGCKvCiPMHwnZvuOEG+973vmddu3aNTRUFyZGE+4IFC7xgXLduHR0a+/TTT+2tt97y3l+WhzCd3OmJEycmzZfG+BWWe//991OGfnOPTZ482f8WhR8///zz2JzDod7EjBkzfKg/jfUzLRHsQ3SdixYtis35OkSFjB8/3kaOHOlrMwBpMZ988oktXrz4a4YmQtqZ9/bbb9sHH3xgy5cvj835OqtXr/bHie0gLD4+TD2vwh1RHs5JMiTchRAiORLuQghRxHn11VftrLPOsuuvv165oPkM4g2hSIg2IkkULCFUvlu3bl70/fjHP7YrrrjiUKh8iRIlvJh/9tlnrX379nbhhRf65c877zx76qmnvAht1qzZoemEdJcsWfJrxq358+f7sOyf/vSnfjna1VdfbU2bNrUtW7bEljoIoeJEtZx++ul+uW9+85tebLZr184XVwuwzscee8xvX1gn6+d3okKfVIzXX3/dF5L84Q9/6Jf71re+Zb/73e98mHh0ncAICIhlhnlk2UsvvdQ6duzot/WCCy6wRx55xDZt2hRb2mzmzJn26KOP+iEPWZ4okj//+c9+exH0AWoIDBgwwG6++WafY86yFGrkucJ5OHDggF9u4MCBfl7NmjVt69at9re//c0fi2Sh8uxfp06d7C9/+Yvfn23btsXmfB0JdyGESI6EuxBCFGHwcjFGO513PGoi/5k0aZIXX4iuWbNmxaaKgmDKlCm+zgDXNl7kZ555xgtOhCme9CuvvNKLvJ///OdenFPI7Ec/+pGfRmEzxDAiFDHIfcJ0Wt26df33AQ81kSrhO/fcc48X5mHZjIyMQ6IVLzfin+kYECgEiYjm/+985zvWpUsXvxxim1QLpp955pm+qN6DDz54SJgjrkM6y5gxY7zhjekMScg8hDX/I7LbtGlzaFsRx5dddpmfR0MMY1hiGMNwLBDSpHoAhqcwHePTv//970Pbxfa2bt36kHceg0AwRrDOsmXL+ogT/j/55JO9qAfuAdJyiEzAmEL9AYwjX3zxhZ8fDxEGl19+uV8P5wiDRjIk3IUQIjkS7kIIUUSh408HHzGAF1AcP3r37u2rXFO0jvBgUTDgrUUchgKBeIURmghZpuEVR+QhfBGWhJBjaAkedgQnod2EoU+fPv2QIKbAXRCsDRs29NMQ9hgKOL/cWz169PBDKiLU3333Xb8swwSyLGJ4zpw5XpSyLJXuEdmIc75PSDzLkWZBtABCnhD9YcOGeU85oeWEuLMfWVlZflmiBxDaLMt+IPaZzj6Gba1WrZqfhujmmmS/iB5o0aKFn8Y8rtEg3J944gk/7Q9/+IM38rFtFHpr1aqVn85xC1E69erVO/R7RASwbxs2bLBSpUr544BBAzjunIdgzGDb+D8YF+JhOseYyAQiEFLdPxLuQgiRHPc8lXAXQoiiBp3l0qVL+w4u3i5xfEF8NGjQwB9vhokLokUUHlHhfu+993rxCNwbeIuZfsstt/hw7gB52Uwn5B5hSl44HmqmcX4xEjCdhoAmXJ15jRo18t/H+87/hKSTs07YdxDV5MjzPa4VIgRYjkZ4OOH2Ib+b5QlRD9cQ0/ku/9P4m9akSRP/fTz2LI9HO3jAb7/9dv/dAOv87W9/6+ch3BHcGBQwOiCYEeph3/jE641XneUxbLDNderU8f9jwJg6dao3NIRtZHt27drl/84LbF/0GCRDwl0IIZIj4S6EEEWQvn37ek/7HXfcccTOsMgfEHLk/yKG8JyKwiUq3AlZDyAyq1at6qcj6KPCnbx3piPcWY7CcT/72c/8NITvXXfdZXfeeadv/I1oZh5eZ6BoHCHnTKP96U9/ssqVK/uIF0LuA3iVg8imkcpCnjlFJBH1wcgQoMgeBfgqVapkDzzwgB8XPYSXsw0Ibrz4rIdppAzEQ+488xDupBLgYSf0H285BgjC5MN+kQoQUgo4JkANhzCN9te//tV7+IcMGVJgw+9JuAshRHIk3IUQoojx2Wef+VDdSy65JGk1a3F8mDdvns93/81vfqMhyQqZqHAn+iQQFe7/+c9/kgp3xDM543jPmUZ4/S9+8YvDGiH13GvkxAdGjBjhw8ajueY0hPYbb7zhvdfAfYqYRjSHYm80Ui4YYjBUt6cw3cUXX3xoHuvld8855xw/LQh3jAyheB656fFQC4B5CHe87RMmTPAjTVDojn0kJz/sF9vKb/zqV786tC686xik8ObH7xu59+TAH28k3IUQIjkS7kIIUYSgA493EU9av379YlNFQYEoY2g4cqcJmY/3nIqC41iFO8vNnj37kGebyvTknZO7TuNvxDfecELqo3De8WgTZs46yVlnHX/84x9t1apVsaUOwrBuFHJ76aWXDoXlI6bx3hPFgRGIaUTPkEvPNvG7VG1nOsKdMHU8+iEcnpz6ePCmMy943Nl+8t55VhAqj9Epft/IqQ/58AG2iX3D007ee6hGj3g/lnD53CDhLoQQyZFwF0KIIgQePbxojz/+uELkCwnEC+HMCKL33nsvNlUUNMcq3DmPhLQHwcs5jYfx3PGwI96BkHiq2odidQGGYmMdDENHSDvh8AxPN3jw4MPGjWd8dCrAs2yfPn28yMcIxP8YAaKEfHqEO+tgvx5++GE/DTEdrc7OeOshzD3kuLM8UTkUzatdu3ZsyYMwj/HcX3nlFZ87z7FAqLNvjCUfJWwHRfUompcXqAWAx57h+VIh4S6EEMmRcBdCiCICIoOwXXJy8YiJwoPK5YQf4wGNjoUtCo5jFe5hPHGGMwviGU82ghjvNoIV4wzCGVELCGeKvZEugejlniSEPVSrJy8c7zwGNsZAx8hG0Tu82kxnGDWWw+NOKDsh7WGcd4xxLMP2tm3b9tA47fx+2Ifhw4cfGrKN7+GVr1ixohfyYag5hHvwohMGzzT2A+856R143qk2z7Yh9vHwE8nDNPaN5wsim32jyj4V6VkHIf95iTChMB1j55MuQFRB/Bj6USTchRAiORLuQghRRKA6Nd6zp59+OjZFFCbkPVP4K1G+sTj+INxDLjaF3wII91Co7V//+pevZh4IQ56RS44wBYQl+eHBEx5tDOdGwbgQ3YJID6H18Q1vexD4eLApMId4j1+O30bAs4zrg/n7OgzlFhrrCiH0GBWi+9CyZUsfmo/4Zz7bjTAmhYb/o8Id4wRDsCHSw7pDQ+gzjFwQ44xRH5/bHhq/Fx9lkFs4diHEH6MAIfrJkHAXQojkSLgLIUQRgKrOFLC66qqrvpaTKgoHPIc///nPfbGvlStXxqaKggLRSwg4Y6d36dIlNvWgEKdCO9MxqkQjIii+xnSEPcI5wLoYB55weYaQo91///1+PRgIopAXznjuhNj//e9/t9tuu82LZsLgo/C7eM6p5v6Pf/zj0DoRpHi4A2E51ofoJkrg1Vdf9cPNsT1EE8RHdRAVwL4xTB3GAowVISee32J89wC/1blzZ/vvf//rR0Wgovwjjzxir7322tf2De87tRsoUHfjjTf6TwwXhP4fCxz3u+++2zp27Oi3NRkS7kIIkRwJdyGEKAIgFPDuqiBdetGtWzfv+WzYsGFsiijqIJLjhXIyCGHHUHAk8HxHDQXJiObDx4NnHAFM6H3w7Eeh0j2Ct0SJEoeiCeKh8FzUaJAMDBl4+fksSKLCXc86IYQ4HAl3IYRIcyh2RYgpebS56XSLggNBdt111/mhtqLFwoTIbxiujXHVEbXki7/88st+OEiq1r/wwguHQv1JByhowZ1fRIU7ufsU9yPfHoODEEIUdyTchRAizaGgFrntFLwS6QfigqJeiCchjicUzQvF4sifP/vss32hPaJxmEboPlXiiyoI92uvvdbvC3n/1ANAyC9fvjy2hBBCFF8k3IUQIo2ho874yYz/vHHjxtjUoknOgWzL2X/AcvbtP9jc33bAteyi6R0MkOt+/fXX+6rbynUXxxuGenv++ee9oD3//PN9u+GGG/zwc0XdM039jqysLJ+HT+0AcvIrVKiQshK9EEIUFyTchRAiTXHPZ+vRo4f3pnXt2jU2tWiAKN+/ebvtWbnOds1bZjsmz7Nt70+z7aOm2M6Rk2zXyIm2990ptn/cx5b90aeW89nnZl+4zvnmLZQFj62l6MD413jdBw4cWGTDlIUQQgiRvki4CyFEmoL37C9/+Yv3uON5T3ucYN21Yp1t/XihrX9tsq3p+ratbjbQ1jbsZZua9LFNzfrZlmf72/aWA2xXmwG2t91AO9B+gGW/1N9yXupj1sm1wSPM3h9nNmu22Ron5LMPxFae3sydO9dXl6cqeKqq2UIIIYQQeUHCXQgh0pRJkyb5iuUM80RhqnQle/de2zJtsa3qP8aWvDDcFtfrZUvq9bbVjfrb5qcH2a4Wg23vc0Ns1wvDbEeLgbajSU/b07ibHWjS3axFT7NWfc06DDTr4lon/u5l1rGH2YChZu++x9hXZvvSWwxTWZxiWuQdT58+PTZVCCGEECJ/kHAXQog0BSF41lln+fGc05ID2bblo0W2pN3rtrBBX5uf2c0W1+ptqxoMsPVNhttXT4+wvc8Mtxwn2Hc/3cfWV25rGyq3sR11Otu+xj0tp1kfs2ZOuD/VxaxRB7OW7u+Og8w6D3Aivp/7xAvvBHwvJ+Zff4MBtM3ixp1OJxgX+0c/+pHP0RUiN1BIjmJsjPXO+PB5ZdmyZX7UCcaCT1bI7a233rJSpUpZy5YtY1P+B0O/lS9f3q655pqvjUd/JBh6jmER69SpY2vXrrV58+b59VSuXNk2bdoUW0oIIcSxIuEuhBBpCOM5n3vuub7oVDoOAbdnzWZb1nmUza/e05Zm9rTlWb1tqWurag+wjQ1G2Pan3rI9T79lOc++advr9bCVZZ+1bfV6WfYLr1pO69fM2r1q9iLtFdeGmbUZaNa0s9lz3Zx4d393xgPvBHxXJ+C7udbdifhe7nPUe2Yb0lMMkNqAYGHoPg3bd+Li+k1erG7evNlHwjC+OoUj4wvDUUSud+/eVqZMGXv88cft2WeftaVLl/rvB5YsWeIrqF988cU2c+bM2NSDNGnSxM4880xr3rx5bMr/4PnAb4aG2KYWxnnnnWcLFiyILXU4jHrAb/3zn/+MTfkfbCvPGua/+eabsamHw77OmTPHPvnkk8PGicf4QPFMRr6YNWuWn896/vGPf3ghHw/j2TPEW7ly5eyqq67yVfHPOeccnxbUqFEjfxxSRRhxnDFOfPzxx/54MiRjFKJfMBiE6eFY5Wa8fSGESGck3IUQIg0ZMWKEnXzyydawYcPYlPQge9de2zR2nn1Wu58trNbTvqje1zbU6G/rsvraqmq9bV3Nwbat4Zu2t+m7tr/ZaDvQ/C3b3/QVy37GifVWI81au9bmLbO2bzjx/roT7W56eyfgXxph9rIT8C8PccLdtU6DnXgf5IS7E/Dd3WcP13q6v3u4NtAtO2+hOcUU26r0oUaNGva9733P3n777dgUcaKBaKWWwU9+8hMvVD/44AMvVMuWLRtbwmzq1Kn2y1/+0k/nPmbcdf4mIgMxj9gHhCdFDX/+85/bp59+6qcFqlat6r+TKIIDzzrz4tull15qn332mV8G0YyIpzGNa5Nl8Mzzf5jHSAgId4aSY36yaxch/Ktf/crvy3vvvRebelC4I7r5Lsdj2rRp/m8MBOvWrYstdRB+9/bbb/fzGXf+kksu8TU8WO8FF1zgU00wANStW/drghyDx7vvvntonPfQOM5Dhgw5VFti8uTJ9t3vftcfIyDKgOWUwiKEKOpIuAshRBry2GOP2WmnneYFQLqwb8M2W9P7Q1tQsbstz+hjG2sMtB21B9vO2oNsa1Y/W12mi22oNdh2NHJivdkHTrS/b/uajrTs5k4IPDfKrKVrrd45KN5bI97fdOI9IuC9eB9u1sEJ+I6udXat61Czbq71cH/3jLXer7hPt9yET5yaSK/hryZMmOCFO0NYiRMThDvDlOHdRqiOGTPGC0M8yLBmzRq78sor/TSW69ixox9tgHuamhV4mN9//32/bCrhXq1aNb+O6tWrx6b8j86dO1vp0qUPtXvvvdevGyEchHtmZqadcsop/npkPHTWFRrTaAhchDQCOzfCHZHNcylsPyDc//rXv/rvphLuHJcbb7zx0DzEdhg+EW843vwXX3zRrrjiCr8M+x31vGMgOeOMM/w8RD7be+GFF/r/2Zf+/fv75RDu/H/XXXf5/znuLCPhLoQo6ki4CyFEmkG+KV4kwkjTJbxz77qttrzt27agXDdbUaWvba052PbUHWoH6g+3/Q2G2fYaA+yLUh1sfdZA+6rua7ar8Ujb0+Qd1962A81GO+H+ntnz75q94P72Ah7x7gQC3vc2TsDjgffedyfeEfAdXOvkWhfXurnWw7Wer5r1csv0dkK/t1ue/9+ZZLb5f2G7hQ1eP0QYecvRcGJx4nAk4c7QgHiNSZuIjj+Ox5hlWBZRjtedkG+E++WXX/61kSNSCXfCxQnV51mxdetWmzJlihfhP/3pTw8J9+HDh3vxnpGR4Rse93r16lnt2rUPTeezU6dOfvz03Aj3q6++Os/CnSEtmc6y8Z74KHjVObbsTwj7R8BjnOD7iPVx48b58Pfx48f71BSmM+47KSoYOyXchRAnIhLuQgiRZhCG+v/+3/9LmyJne9dvs2Ut37DPyna35RX72IaMgbar9lDb70R7doNX7ECD4bYtq7+teORl+6Jyb1tXfbBtrfOq7Wjwpu12Ah7Puz37gRPvrj3v/n7eifiWTsC3CgI+Jt4Ped7dZwfXOru/u7rWzf3dA6Huluntlu3zjllf992+7rtMe2OC2ab0EckUFaQ+wYcffhibIk4kjiTc8YDzP6I4nhBWj8hEdONx/s53vuM94uSEU6TujTfcte5IJdwR4Xj1aRj58LRjLIiGysezevVqe+edd/w2x5ObUHn2m/Uj3KOh8ohwctz5bjLhjgGS/WB627Zt/bRkYPz617/+5ZclUgEQ5PXr1/fRAXjlozzyyCN+2T/84Q/+98ixl3AXQpyISLgLIUSaQTEqOuEjRzphWshk79pnS1u/aQvKd7cVTrSvrzLQtmcNsb21h9m+OsNsV63BttmJ9S9KdbJlD7S35Y91ttWV+9nG6q/YtjpOuDcabdnNxpq1GOfE+5iYgHfi/YWo953weScW2jpR/qIT4i+5zw7us5NrXdzf3Vzr4eb3QrC77/V33x/gWn8nHhDwvd1xenOS2fadsa0uXF599VVfKOxIAkUUTRCwiFI8v7Nnz7axY8f6MPWQHlGlShUvFClKFw/XBvPuvvtuvx6EOznwTAutVatWftkg3BHp8VAZ/o477vBCFpEbcsyjofIBvPoPPvignX322V50U/COiJDoaBVR4Y7hAKEdXyAOrzwGRa5tlsHrzTYg2k8//XT/3WTCnXVRdZ7pTZs29dOSQQRB2BYq4QPRCkQZMC/ksgN/X3/99X5Z6g5Q+I6idewnRhB44okn/PmZMWOG/18IIYoqEu5CCJFGZGdn+042HjhCQQuTnAPZtrL3WJtTsastxZNepb99lTHI9tYcaruyBtmXT/awpQ92tGWPdLblj3e3paV72oqyfWxtlWG2OesN215ntO1v7AR7s/Fmz3zomvu7hRPxCHjEO553BHwQ722cAG/n2kuudXCts2tdXevu5vVwy/Rxy/d33x3o1kHr5Kb1Rby7dfQZbTbqY7N9hZ9aQOgwYgzhhuAQJxaIWsQpERWEj1PBnCrpDIMGgwYN8uKWqAu88QhOBCX57HjVEZnNmjXzyyKqQzV4QtZZfsWKFX5eEO4YAvgdhD7h8Yhhhn8jJ5zv88zgb7zM0VB5IK/8uuuu8+vB0FCiRAn7zW9+44vAIeDxwENUuBPij+h+8skn/fQAOfiE9bPMyy+/7HPU2Ufyzlkf81KFyjNcIgKaon4fffSR3+54OFYvvfSSXx+GhmiqQTwcC6Jb+C0MncHgQSQDofxBqM+dO9cbQTl+QghRlJFwF0KINALR96c//cl70Ap7SLFNkz6zmdW628IqPW1ttQFOtA92gn2IbS7f15Y80MkW3d/JlpTqZUue6GNLnuxvK8sNtnWVX7HNmSNtR633bV/98Zbz1GSzpyc58T7RrPkEJ96diMf7joAPofMvOPHd0onv1k6It3PtJdc6uNbZta5uenfXeuNld98Z7L4/xK1nwIdmjV9xgt2to68T833dZ2+33JT5ZtmFK5YRWYTtItKiwkUUD7hv77vvPi8of/jDH/qq5oTRX3bZZX4aVdHnz3fXqSNanA7vfZRKlSr55RkqjrBvvOuIa0Ljg5ce4QqsL5Fwb9OmjV+OazEUgkMwk+uO2KXy+s6dO70IDsIdQX/++ef76vMI/0Dr1q39fBrGRYwGiGKMFr/97W/99FTCHeFMpfwgyhnuDkFNQUeiFhhJg2Hz2LezzjrLevbsmdTwxW/feuut/nfw9hOVgHFECCFOZCTchRAijZg0aZKvmEw+aCKPVEGxe+0Wm910kM2q2MVWZ/S3bZmDbYdrqx/vaZ/9t5MtfLibLSrZ1xaXHGTLnhhmq8u9YRuqjLStme/brlrjbX/dKZbT8GOzp2hTDhfvzfHAEzqPeI953xHvrZ3wbufaS651cK2za13dvB6u9XPLD3LfHebWQ+vqhHrz180GuukDXOvn1oWIxyO/5H9iozCg6FjlypV90SxEjCh+IFjJcUd0B7HLUHD333//YSNFpKoq/9xzzx3KY2c+BewYNo0wdwQ31xhiF/D2I4gR3KGgGyD48ejjIY+C4OY5g7d81apV3ksdhDvjvTMuPLnie/bs8csj7vHUM4QbxgH2hZB0YNi5I+W4B4hOeOCBBw4dk0SNonQYHJKJdsLjGS6OZYlU6NOnT2yOEEKc2Ei4CyFEGjF48GDfAe/Xr19sSiFwIMeWvTLRplR62RZn9rKt1Q962leW6mHzEO2POPFesr8tfmywrSj9mq2rMMo2Vxlj2zMn2J6aU+1A3WmWXX+6E+7TzRp94oS7EypNEO+TzZo60d00eN8/jHnfndh+3onuVk6gt3WtvWsdXOvsWjc86U6UD3Bif6j77ituHcNde44ceCf2h7p1DXFtkJvf362vt1v+9Y/MthbuMHFdunTxRcfefNNtpyi2EK6NuCasnAro8eHaqYQ7YeJ44RHleNQXLVrkw+gRytu3b48tdRC86UTqkHNOGH2A/HfWz5B0UVgnRgUEOFE+UeEeLTwXCJ57DAaEsvM3v4WRCq98bqrKBwhpx9uPl7579+7WokULbyzo0KGDz6HHmIAXPhmE7xPRwm8cKV9eCCFOJCTcRbEH6z3ehGMddov1EKpHRyYv8D22I1p4Jy/gpSBUk20pTI+tyBshHLUwx2/fsWK9TW3Yyz6p0tnWVh9g+2oPs3Vl+9icf3ey+Yj2Uoj2ITHR/q5trTrBdmZ+ZHtrfmIHas+07LqfWk79WZbTYKbZIfH+sRPvCHgnqhHweN+bBe+7E9zPO3Heygn4tq695FoH1zq71t1N7+eWGeyWR7SPmGLWxy3fDG+7+z7TaHjhWQaB38uJ92mLuRlie1TwEPrLeUTAi+IJz3JEMQXVkoFw5zohjD5euMfDMGmExlOMjWHZ8L7z+d///td71AmRR9RH32XPPPOMXz+e95CvzjuC4nYI+ltuucWndkRD5eOryhPOztjz5KdjiOI3Qt48UQXsQ2497oBQZz4F+qLw3rrooot86DvV95NBdfxQRT9ZBXwhhDgRSXvhjvhAzMRXNxXFAwrV0KkIDS8DnY6jgc4A30uU/4ZYpgAQFWjjh5ih00VxMDo7uRHAFPJhPVQETwQeDjpPdGYSFR2jAjXfb9So0VEbEfDm4P2gE0MHDG8EYZCEXSeD44KXhUrBdK7YJo738YTjGH9Oub/DOWWbmJ9X40dRh+ccHWE6yQsXLoxNLWDwtr862T6s/KItqN7bttQcbFuqDLTZ93SyOQ90twWlBtiix4fY0ide9aL9q4zJtqv6NNtTc4YdqOXEeu3ZllPXtXqzzOo7IdJghhPv08waO/HemLD5iHjH++7D553Yfs6J8Vbj3I3gWnsn1ju41tm1nm56fyfQ8bYj2mkMIddu9EHP+6vuf1rwxA91Dc87n5sO90oWJAgYPIcMYXW0zyxxYoCAPfXUU+2GG27wOdmJwDtOIcpf//rXX8txD/B85r1BBAdh5OTN4ymn8TffR1SzjhC+HsBDT6g9QhmhT948Ber4n3W98sorfjme/4mEO5XnyUdnesmSJQ9dy0OHDvW/T159+/btvQGAZXIj3EkBYD7e+yi8D3hvIdypWJ8KluVdp3tLCFGccM+89BTuCIpevXr5Aig0crZ4ASBECAlDAPCCoDKpRH3hgdDinIScusWLF9vkyZN9Htuxwnl99NFHfQgehbrwMlCch2uDEEJ+N3QK8E7irYgKPjoiffv29dcPHSeGhkGck88XYHkqP9OJeP7552NTD4LFn3xBOt+I2yh0Gvj9aAudnoYNG8aWOhy275xzzvEdrUQemGeffdZ/v2bNmkmF+8yZM30+HxWEo/CbfBdvLZ0ZOmoYAQjNjIf5r7/+uj+2eDf4Ho3cRTpa7dq1OyzUMh68HVRTpnIyQxtx7OP3h/FyyY9kP6L3Ld6ne++91xsWOCecVwwe4XqhQ8c2UGioqN7bPJvY1+h1lls4juTAksPKsSoM9mzebh836WufZHaxlTUH2IbMQbbg/q4289+dbd6jfb1oX/bkq/Zl+XdtW8YU21tzpu13gn1/LSfWa8+xnDpznXB3n0682yHxPtOsEZ73mIAP3venneAO4v1ZJ85bOsHdxrX2rnVwHffO7rO3mz7QLTPMCXFEe3+E/htmPdy8Vz46OC2Id/4e7pYd4lpv9/3pSwrN675kyRIvpBA78WHN+QH3Br+B91OkJ4honq1UaU/2TMVQOXz4cF/dPZlnnmHmWA/edQQz758A7zCe84hgluHZGn+98e4hZJ58cEQxhd/IV+f9GIhWlY8Kd0L0eVbzXI5WmAfeRRgaMQ6k8rhzrfLeoBFWH/LTGQs/TKdh3KZKPe8u9pNleQ7y/o0az8m757cxkqd6VwkhxIlGWgp3OvthGBQaLytCwMjR4n9ECoKRThGhUqnC0MTxhZy78IKGhx56yP8fCuYcC1wHFHdifbzICY2jGi/CE+8007t27epf6HgiKNwTBDbC/j//+Y9fhkYuH8vwN3mAFOYBOj1ly5b108mxi0KeH/l2p5xyyteEOx2lsO74hscc6FAzBi0imTFvCU3EQ4F3pHfv3n46jWXwOgcvRK1atRIKdzwLzGMZqvFG4TeZTh4ix4eqw3TQ4oU7nZyHH37YL4unhA4Z/1P1+LbbbvOGCuZxzzGcTjyE/4YOWrQhToLxhvPBethXOnqcI5ahijGCFrFOcSO2j+kYGYL4wDtJfjfT6WRSIKkowjnFq0XnMr6zmwo6rxiq6ITnh/ErL2z4ZLGNr9ze5tXobWtrDbZlZfvYtDs62JyHethnjw2yZaVftTXlR9mWqhNtd43pdsAJ9gO151q2azm15znhfrBZXXePOQFv9ZyAr+8EfAMn4BvOiAj4IN6d+G7qRHkLJ7ZbOpHexrX27rrt4FpX1/q66YPwpDtRPswt+5K7LpuPNOviro3+sekj3PSoeMfbPsDNZ/nthVNpGsFC1WvESfzzI78gP/iee+6xYcOGHSbmRHoQhDuGOO7tvMLzmL5O586dY1O+DkYc3lUIX4RzPIhnjKEMyUbIPe+JKMmEO/BsT/U8Qlwny3FnvRgxMbzz/uaT4eCYz7vwj3/8o5+OwQEDB9Npv/jFL/yyHLvHHnvMG+wD7EdYjndibg28LMe2YZRPFgEhhBDpTFoKd0QVLx8eynhL8dZhYaVwCeFgFCNBuPPAx0uosTkLj88//9yfJzqP8MQTT3iBjFA9VhCvl156qV9/+fLlvRcXzwHTQ3EcojIQinjFeekHkUS1XebjVRg4cKDvQOEdDuF8VLWlI8B3Uwl3PBMI3PiON51yclcZdze03/3ud349QbiTC0goItNSNYQqnQh+n/9TCfcGDRr4ZchbjJIb4Y6BC+82y9FBo3MWHeoHL82UKVP8saOTiLjm/AYw0oSQSzperIvzzj3JNDzp3ItsJ50uxDtRD5wjlsHgxn1MOCjeeDw1fO+qq646JNw5Dv379z80bBKe92PN+S8MONYYQtgHxBvDGuUmDYHjfcUVV1jp0qULZWgjzt38Tu/Y1IzOtrzmAFtfY7DNua+Lzby3qy0oOcCWPPmqrS73jm2q/KHtyJxqe2u4+7HWHMupNT/WFvhmtWnzXXMCvk5UwMe874TPI+CD9x3x/owT3M87kd7KCe4XXevgBHw399nHTesfaz3ctKfds6Xpe07gu+91cK23awOnHhTpw906XnFtmGuD3PJ93PIL8i6YjgWE9COPPOJFFwar4wEGStbPM5d8YVJmEj07ROEQhDvPQ0LSeb4SkZaoUYyNiLVEIpQcdtaDQS9R7QueGzwryVmPGkKPhlTC/UgcSbgzH4Mtw8vRMP4yPN2NN954aBoNQzLTaWF5xDvPw6hw5zeIXOM3MHjnVrizLdwvGOS5V4QQoqiRlsIdgYWHFWssL7oAxVck3NOLghLuFLOJkky44xVAjOKtJbcQj3YUhD+CknnBKxGEO2HmUVIJd0QVXojQyEcOeYNBuNNZx7OOV4yGeMMDS+vRo4ef1q1bN78PiGZC9fn+8RLudA65Xzg2yXIpgX0jrYD1RSv2BsMCxwOvDVECCHOKJTGdPEhC6CGRcGfbo5C2wPeiwj2QkZHh59FhLar3N9Xhuc7YD55ldFIHDBiQspOJ0RKjSO3atf11XdBk791vU+v2tFlZPW1DrSG2MWOQzbyrk819pI8tfmK4rSw30tZXGmNfVZtiu7Nm2P6aQbQj2D+znJq0hWbub0PA8xlEPB74ehEBH7zvjd192MQJ+OZOkDznnvetnOBu59rLTrR3ctdvF0Lmx7oL0ImJp9xz5Sn3Wc/d1w2deG/mvtdyllvOracPAt6J98GuDUG4Tzbr59bzuvutQoB7uEqVKj5nN2oAy294boUoFe55DEZEfIjCB5HNeWE4Np6PPBN5/iZqOCt47vFcjYfnAvnprIvrCTGL+KUhcHneMo8op7wKUkQtzyjWc7TCHY86kWx8l3dsEO4YLUOoPO/laFh8bhuin22LPg+5t4jGIrLvaCKTeO+xXZwL3odCCFHUSEvhzouHDi+dEELkAxRA4aFLmDDCnaqmhIbhyeJlx3xCdhGNhAQjyBAFeFfx8AHrq1q1qn8JUswLARLfQUYgEYqFIGE5fgfREUKBo+BBxEN43333+VBtXqjkb8XnXbFOhoXBKk5YGFZxthWvbHxHHuFE7hmiBe8bL2aEGdb4ePh9co3prLFO9o3fZr2El7HdURHIvhLBUK5cOb9vvGxZNzlq8eA1RFjiyaFjQCcBwciLNMA2cU5CkRl+E6t/vGCOwkuYtAfC9TguyYgK9/ghX4LoQwyzTxh6sKSzzbyQscbTGYp/qSMCgyeU3weOBf9jhScc/6abbvLTCRVPJtzpmDCPjlJoofMchHsU9hMhz7VNS5T/HELl69SpE5tyOFwnCAGWadasmV8n5597gTB0pqcS7nRyWIb9P5L3N+TbB4MM8H3uiaeffvqwewZPEsvye+G8c97I50e4c46YzzZGCdXT44U7+xly9oMXvyjCfYzniP0IjWsJzxT5rIkiCYgqQeQnK3B4vNk2f7VNrt7FPqvR13bUHW5flutns//b3RY+MdSWl3/L1lb6wLZUnWS7MqfbgRrzDgr1Wossp/bnri1x/7tnVI1FrsU+vYiPCfk6Trz7EPqYePeh87Gq80858d7MCe9nnehu6UR3W9epbueu3efdPfrsSCfwRzhx/9rB/1t96D4nuO+Mduty11tdN7+5W/5Ft45ueOCnOsHu1kMYvW/u742FE0ZO6gfPJvKEjxfcY7wnotcZBjpymnnWJzICioIBgw3vcdK2eJbyLk3WOF/UF+F5nghELM9M+hgnn3yyf8/SMApw/qmNQh8l1Ts1FVxHvBt4RlGQ7mjgGuP9Rv+K9DP6W6yH/TpeaSJ5gZQS7o9QK0cIIYoa7hmf3sI9Kpbx3F144YU+vxnBgvBm7FM6yDyEeRjzUH788ce9iI2GKWPpRmAznZdemE4Hh/UGECQYAMJ32Q5eQPyNEIlaohGJhEIyjxcoXt/gYWPZEC3AixQhHkK76MixLH/T8K6FomrsRygywzo5Bhgn+J99HzNmjF8O2O/g7aSxX2w3uWIhtI7jEwQCxwxBFkKb2fewb4jcaE4z4jqEzbH8mWee6QUF/1NbgFA1ILQZTwFh05CVleXzyYMoTkQI10YoB693IlIJd8QgnkmuFc4Z55WwPEQeId1hLFiKuUWh88P2c2yDdzgId84d543jB1HhHv+SR2giLjl3eEkI+w7h3fHCnXDWsM+hEYrOueM4B4Jwp+ovwp7f4BwHuEYQsixTvXp178HACMQxCtdTKuFOZ4xOHgYOvCCpCKkGGApSwTaFa5DrM1Q0xthE6gDbwjliXnzxv1TCPUQWFGXhDtz3idIlOP9EaHCNRXOTMRgyjw58YbBuwnz7KKubfV5jgO10wn1ZyZ62oGQ/W17hTfuy8ge2yYn2nZkzbH/1+ZbjhHlOzc8t24nz/TUWOuG+wk1bajmZTsS7lp3hplebZ/urzrEDGXMsO8uJ9lpBvM91qtYJeJ/7Hitc9/QnZi0Q7+652WysE/dvOuE/3LUhTrQ7gd72PbOX3fSuk5xAd+K8o2svudbGXePN33Hfd2KjtZvXyU3r6cR6X5oT7n3c+ub/LyWkIMHQyT0XX0wyv2Fc7PhrjMazG8M176Los0QUXehP8M7DWYEBlvdkXsV6FNbBNcLz6FiNPTzDWQ/ry49tyy9CjRgMakIIURRxz9T0E+5YRRFRCN2opwKLMKFOiA5eBlizQ5ExBAJCnocyggXLMYVcyI1mXUEEEwpGrjyCKwhpvocIB4qWIJTpbCPKqfaK4McazrII4eBxxtONlxXBjIijcBciJeQ6IwB5wSJKwpineK3xSrIsAo1pfH/06NF+ncHTiEhGrDIdkYonmOlY7kMoHb/FtLBeioCRa80+Bu8vnvIg3Mn1Rqwzj5B2PKjsW/AK/va3vz20b6EjiGDH+0f+HWG+5D0znZwz1ksjNC4UekFw0klNJbaCUEZspgpXSyXcEbxEMHDeuRaoRotgp8PA9/Ca8z2OF9vHNcP84JnGa4Hw5bshVB6jA9dTiPIIwp1rAQ8C1xsh8VyDHA+iGlgmHF/qMbCeqHDHe0KVcKYT4YAQpiGsmYboDR6WINwxOjAfUU5ESIBweqI6WAYjFfcGoYhcb6HYTyrhzrkNeYh49aOREwGuLa4JDF1cl6nG0uW6Zl9D0T+u52CA4jhhdONcsD0cMwwYUZIJd+6ZcB9gxCrqRbfive7RhrCioCP3OdcBhiampypCdTxZ/tpHNjWzuy2pMdC+qvuKLbjf/V1uhH1Zbaxtyphs2zNn2l4n2rOrLz4o0muvtAN1ltnOStNsR5lPbF+Vxba3/FzbU2627Soz07XptqvsDNtdfrrtrfxpTLwviHnfY6HziPeGnzpxPsO1CW7a22ZZTrBnDDarPuxgaDxju3dx13JP97zwgtw1vOp9nSjv4z4R6i+Nc8LfCXg88h3cct3dvJ6udXN/v/e/yK2CJDxHE0VL5SfcM+GZkqhhfORdyPMg3KNCFDd4//E+j75XhRCiKJGWwh2hSIcWYZ3byp9R4U4l8hAijZDDE8t0xC+VVwOIT6bjgQxijZB3puGl4LsBRAfVTZmHkIYgPNjOqOcUkUdONjn5rAOvcqiOHs3VRtSQq40nMnieCTsmDBqjQJQQuoy3OEQhhP1CECJKA4jYkPPGJ9uA6AtV1qkiHoVQNvLmEPQIfwjHhuJu0XBzBCuh0hgNEuXi5QaONesg/5sOZzJSCfcjQYhoMDLwieEFwwT/I8bDi5vfSJbjjphC/DIPccmxoHPMEGohagORHbxpQaBHhXuofst5wNAQwGDBeuhQEx4NQbiTf8e2UqgH40CAdeG9YxmMHuRPYpBAgIec8FTCHcjbD8cUQYlnm2sQoYh3kGsj1JfgmHN8EsE1E6JNOBaMAhEtdJcbkgl3oAI/8zh30Xv2WOH6fuqppwqscZ0TfcC+pGoYF7nngsGC+geFwaIOo+3jaj3s8xqDbW314Tbv/p62svIo25A12bZlOgGeNdf2Z7lnTfUlllNrpeXUX2fWaLPtq73aNj70gW15cJx99fBk2/rwJPvqEff50Djb+sC7tvX+kba7zFQ7kDE/lgNP3jsCPla4DvHeeKb7HOvmve7mveH+diK8+QcHC9V1dQI8CPHervVzbaBrg12jqjw57eS3d3Gi/Vn3vdZuPR3xzLvpXZxwf8X9RiE4/oic4HwimhNdH/nVuM6iFbmTNZ5XGE5J1ZAHXhQnMNKT+se7DieQEEIURdJKuCNsyAML3kM6GLn1DkSFO+G1UfAuM518bh7egTCkGF5MxBeh5OG38YLh+cf7iKeZz9ABp4MNFJ/C20hoK2HlCPCRI0d6kRwFUYL3lO8ikBFZeL8T5cwH2BbC4vGKI5IJ/+f7ePzxIEe3FdEU3S/EMB1F5iEYgf0LeZAcVwwD7BON/QjeGkK+IRwbog8I6aUDiugrSG/NsQh3QOhyrsg/Zx2IXq4NwviDwYD9SVZVHu8nXnQMJIhczjFV6e+66y4f+s75RliHMPqQnhAtwkZHgWnUM4iClz5cl5xfCMKd7cFjTa2C6LVE/QAEdTBAUEshQOedaUcS7sB1jThn+WSNUPkQSZAIrhmiWBDtdIRSLZuMVMIdY0ZIPSA6ghDHvPxGPGG0inRtweBG8cLCYEHbt21atV62sPoQW1HNCfcH+9iqKu/bxsyPnHB3z53M+ZaducSsxgonuN05e2qr5Ty9w/bX22Dbys6ytXeOsPX/cUL/P6Ntw92v28Z/v2Fb7n/Xtj/6oe0p/6kdqLbQcry3Ppb3TtG6kPeO1/0pQuanmj3jRHhL1150f3dwrbP7u6tr3V1DvONpR7gj2KOV5Ac6kf7ymIOe97bu2u/ipnVy3+nv1r214IVqqMWRbo3nYjrlHgshhBDiyKSVcKeaPJ0KhBbe2KMJkY0K93iPchC9CICoFz0IBwQtXmo8yyHnm3AqxA2eMMLLQ4g58whTBvLLKAYXcsYRMnjf8RIi7MinDlAwj/BjlqPxOwhvtinqVWUbEN2sA68q62M7goeXjj355YhFtolpiLZ4Qo5wEO7kOIbf57f5LvsWWtgHjhUQ6h7GZKcxn/NC1AIF9qIRBseLYxXugFeJwnuElROuGlIiAqmEO/O4rrDO88kx55PG8Ykv8IbwJkWDvOYAFeRZN9746LWHIA8e+nD+g3CPCvIAHjLOG0YmlkeY8z8REICXn+/mRrhz/XBt4dknbYN1E4FAzj+RJqwHj3cy2I+QK0go+5EK3SUjlXDHEIWnPUTAcO3mNcIjCukO3OsF1bjuGCOffUjViJoZOnTooQKCGHwKg/mt3rTp1frYvMyhtjTzdVtWeaStyfjQNmd8YjsyZtu+DCe4M5c7wb3GCe3NZk13W7YT7rurr7Qtpabamjtfs9W3D7Uv73jFNvx3lG19dKJtf3K67S4/1/ZVXmjZGZ874f+5F+8HC9ch3vG8O/FO2PxTTmA3m2H2rBPwrT45OORb+wTiHa97f9fwuHvh7qZ54e5a94nuZhpt1vy9gyHz5Lz3mWm2+vB7vyAIBlBSrhJdH/nVuM5CjZdUjZFYeM9yv0WfR0IIIYRIf9JKuONhxiOGaEZYUHmcDnxuQKwE4Y7gjJJb4Y4wQ8QyDc8/Qo7w4dDwsCJo6IRFIVKAUEXyqgnD5vs08qmiFWJZP3noeE4RwOwny/Edhu/BC/zoo4/6aQh1PLuEzfObwZsbhDuClPxzpiWqQo64DssDYdUUCGMav0/IfnTf2FemETEQBcFPXjjHLvweDbF7vEMtj1W4c66JakC8cn0kAnEeCschnJPBuUEk46kKaQV48DHWEH6KJ5/rInjfA6QFcJ5ZhvkIflqoj/DjH//4UJpDEO7R4eD4JPUCYce8xo0b++l88j8GHiILjsbjTloG8xDD8dXtQ6E5UjOSgecb4wKh/mxzqnSHVKQS7oT/cw9yjDAY3XzzzUmrLaczGH3CNRzfMIYRQUPNjVATIgwfxbOvMFjY9h37tFo/m5813JZkvmWrMj+wdZmTbEvGdNuZMdf2O+FtmSud0CZE/qC3fV/99batwjxbf9/79sW/htnqO51od39vLTnFdpQmv32O7a20wPZXXWwHMpYcFO9ZSw6KdyrPB/Fe14n3hrPNmjjx3tyJ9xemuYvEifd2TrxThK6jE+dBvMd73UO4/AA3r7sT6y3fN2v6jhP+Ew6K/l5OuK8seOEehlDk/XI8ITqHezp6fYVGVBhpPkSOKTxeCCGEKLqklXAHRAGh3ISfI2riO/TJOFbhTlEy5iF0mUauaTx0euiI4y1FrBBqSA5+VBQi3AiBRtDhKUdUsTxe33iRFMar5/cIUUesJKtMHnJ+2b5Q0T2E3xO+Hd0GtiuMx8ryGD/o2IUc/USiDOHAvgWvJtEC7FvUQ02eP2KKdWB4OJbOKL93JI/PsQp3IjbCeOR4vhPBb2D4QMQmKwiGuKcKLeshdYBOMEaZMI4uuaXhPGIUiYp39hHjSzDShO+FdSG0w3FIJNwZYocih0zne2Hd5LYz1E5YHsMRf+dGuFMoLgj3+Lz0UDAxlcc9cKwe8FTCHeHKPEQ7hRyLKpyXEM0SGs82zg+GsvhcS6ryYxDi2BQGqwZ9ZLMyB9qCrBG2NHOkfZE51jZkTLGvMpwAz5jvRPcSs+ruOVZ3g2XX32h7666zndU+t40lJ9sXd7zqRPtrtvHBMfbVY1NsZ5kZtqviHNtT+TPbV3WRHXDLHajmhHumawj3Gp+b1aQh3hceDJuvP9essXu+NXXiHa97Syfe8boTMv8y4t01xDsh8D3cJxXj8bwPiH1SqI5c+DYfuoM/0q1jzEGPfU+3vuUFPzoBzy2EcyiieryoUKHCYdcYjeuOZz41LPIaFSOEEEKI9CHthDuQP0suL2Hi0aryqcgP4Q7Bk4ngJbw9QBgxIa94/vCOI6wQWnSMCOeNFtFDdNNpIhyd7Uc8kSP95z//2e9bgN/EOMHvIb4Q96GIHWPVBwjxDpXq2S5y3CGEYfJbCH+84xRliw4Rx/JsK/sdxgBnuLaoGBo3bpz36BNqSeg0Qr9MmTLeMMAnIhFYB78T1hsK+h0t/DbpDHiJU6VD5IdwD5EK/fr1i009HPaVkGzObzS1IcrEiRO9IYbQcgRl/Njw/A5543i/EV0UJYxCPQK+h4GF/cE4QzV4CpBF87YTCXe8zAh/zk388cYQxHFhe8J1m0y4Y2RBFOJtJ5Sfa5Nrj2ucaXj1MTKFAobkuDOd75DrHzVGYMggYoCweo4r+5cXkgl3jGIh9J/jFJ/eUFTA6EIxSfYjNOoTUHyTez0RHGuee9H7vyDZOm25zckabAuzXrPlmaNsTeY425jxsW3LmGV7MhZaToZ7zmV9YTm119remqtsZ9XFtvnxT2z13W/aqn+NsA0PjLGtj0227WWnO9E+14n2Bba3ykLvbcdbfyDLtRpOuNekIv0SszpLXXPivdbig553qs03IGTeiffm7jn3HOI9FjL/YszzjgedvPWu7hPxTkV5QufxwhNGj0f+xUlmTZxwb/aee1C66T1mFrhw59nC6CVEKuX1WZkbqF8SX7uBei68H5THnv7wfGP0AepaHMv5wghILRrSbOLfUQGuQyK/QopVFBwT1FvBaHu0BUF5B1CXhDo4GIkw8rMe3ov5keJUFKCfwD5HUx/j4d3MM54+EO9eUqOoucP7N9EoL+kC7zL6FhRmLuzzybXdpUsXXz8k3vCdWzjenCtGzclrxKAQhUVaCndyPQlZR3ikKuAW5ViFe6gMjhgKQ7cxtjl5yFTPDgKS8OCwTYiXMBQWhesIH2f5EC6PoOf3eCAHbzd57RQqI+Qazy3TEISIJsRaGHaO5fDesk6q3jO+ONOjwp0HGOH0TKexbXTg+AyF9Fg+iEOMCAg6puNtRXhxrFieaYTtBkMJD+mwXowObAfe65BKQCh+XsMugxecY5dquLH8FO7xVfqPhlBgDo93KkLOeijwFw91ATh3REwkqhGQSLgD+3Ek8Zosxz100Mi9J1WCc831xrK0cL3QmE8UANMR9hh4mIb4DMMVAi9LrhWWI+c+mcHjSCQT7twzoUYDhoQQRl7UoDMevO08Y0i1OdLzjPkcc66h6DVQUBzYvscWNnjdFme+biuz3rW1meNj+e1zbF+GE9dOuOdkrbR9NVbYTifIt5aebl/+Z5QtKzHU1t07yjaXnGBflf7YdlZwQr/KfNtb9TPbW43x3BfZ/kwn2qu7VssJ97pLLKf+MjNaHbfeik6U146Jdx8y757HTZx4f8YJbi/e8bw7Af+iay+5ZTu61mKcE+UTzTo7YY4XnoagJ6cdz/wz7pqltXUivrtbz4qCNQAhZqhXgjF26dKlsan5D8VJucZovGdIvcjtaCzi+EOEE2kKGEwRbPFCgbobnDve+WGEkQCjzPDuzc3wZYht1kNaVjKHB88kor+oTRIPRoMQxYcBPxEYo4gg5JkcfT4RuUU0HsZgfjuk/DAySrKoSd4bvJd5d+FU4DrmHThq1Kh8iRDBOMqxy23j3ZnoXUP/iX5Kr169vKE6OjpMlJo1a/p9pk8WD+9kIh1x/PA84N2MM4DlcVKRfkf/lMLFue3z0v/C6UKNGo5ZqsYyXHvJ+hH0SzAccfzZRyI0ozDsLdtKnzjR+eRcUlA3ty1qWOJ9j0OL/m6iRv89WjcIJwSptGxPXiOZwihNOKZSvWfZL+5d+iNco5wfjlEYvjU3FNX+i0hf0lK4Y/XNi3BHnHAzIqCihOJQvJSiwh2LG9MRIbxcA7x48AgzL9pYP5a6ADcuRfTwtEaXIy+XDls0DJn1h9DmaGOboqKI5XjZRZfhRRAeNAhZLLYBXrY8SFgP4gtRjOc9DCsVFe6AaAzCOdrYtmAQAPYNj00wGIRGQTRy3vNq6QREOOtiX+JfEFHyU7jz0MXTwLWVrNFJ4jqKh+ONoEXMsu90tKJwnhGheNZYjmsiLyQT7rkhnG+2I5FwJ9QfIw3XNYYoXoa8FPmbaaFxrzAP4xL/8x1SV6LXPR2GMGY986OV74+G3Ah3agcUxRcfwgnvOh1Z7t34ayYZ3A8Y9Dj+eT2ux8qGt+bZ4qqv2qqs92xd5gTbkjHNdmXMswMZn1tOteXuc5ntdoIc0b7u/g9seYnhtur2Ebb+wfdty+OTbFvZabaz0mzb7YT7nioLnHhHuC+2Awj3mk6013GtgROyjd2939gJzGrueVYB4R7C5t0zv54T743dM7mpE+8t3PznKVbnxHtb1xDvbZxAr/CGu4icKA9e+A5uWmid3fpavW/2wiizl5247+GebWtyX+w0PyBKhecPhuC8GreOBM8mDGw0CfaCA2FJJ573Jvc2gpsoB4xzAc4/gpBzQ3+GdyfvU/oRUfGHUQcRF0aMiRKi5yiCGw/PfMReaBj4WQ9pbMkiPNg+1kckUzwYkxk5hflvv/12bOrhsN9c0+wrzoYAzgkiCvku+0C0Fn8zIkuI2Avw/iBNCKMv71SWizYMD+xPMuNBbuGdFb/uVI19ik8dwwBBpBzGbt7tiGz6WfTv4kVweAfzboxCP4R3LeeGPgLv2Pbt23uBTKPuUVZWlj8efJ/nRXR432TgBScSk3cMxyxV43epkxN9jwP7UL16db9PIZ2PfeRaJHoj9EMwEFB3iW2MP59AhB6RhPTXuP6O1PCYB4jgY//DeUjUENgBNAHbyz0VDFSsg35KGPmHelNsE/vANcg0HFAYibj+wjCd3FeJ+lr0melzYnAPzqpowznH9ZIsuoLrCOM75xLHB5+kM0XPK30z1hFSNOl3EVmZzpEXIj1IS+GOwOKBTt5wVKSmAis2L0oEQPwDlY4/0+PDxwj5YToiNP7mRbhiseXmwlKJNTuZFRihhMeekCdeZnTSomI5wO+xTtZHSBkv/ESihAc9lkSK9fEC5kHDgyl+W9keGuvlk/0OVkDytnnA8ACO3xaWp4PHdvBA5u9E4U9Y1/k9jAlYbMO44UcrKuPBE8XxIpwuFfxOEO6EFx8tHMfgBeelQ8cpVePlFu/xAI4D439zPeJBDUYl8q9pXKtED/AbWN0TnfvcQJFAtpUX6dEeY44P20eYPtcj5519IgUA2Caujbw0zle8l4h7jZdmNIT+aAmpHoly3DGQMK+oetypX8F55H7n+sktHAc6GXSsCyvM+cBXe2xNu0m2suq7tj5jgm3NnO6E+/xYYbmlTogvsu3lZ9rGR8fbF3e/6b3ta/79lm14ZKxteXKKbSs3zXZU/NR2VZ5ruyvPc+L9M9tXbZEdyHLfD972RkvMnnLiva7ryJQeb1bdCY0ai91nyHd34j3kuzdxIqeJE+xPu07nM64970R51mi3zLsHc9/JYUe808iD57Mzf49zAt8J965O3A+Y7R58ebsv8wrvAaJ0iARLFrp8rNDpp45Cos60OH7wTKJeCaIIoRo8ktS3Ad7XwUDO+wIDJMIiDOGKoT04JVIJ9xBNwbMkHox7iMnQgvDinRmEO15kHAFE4HEthgK1bBPbz3QEN8KJa+hIwp13KmKG36K/E0BssD6+i3MgmXDnPYTBg/3l/URNFVIPSQekz0MtmjA6AgISb2dewTjCehhJAcHKs5hjHW30fRial+Xwhkf7JJyfECmJYKVPRSFb+glMC+c6ENLV4oU770mm837G+50sNBujbYh4SFaTJwrbT8QcNVPo53BcEaKJGiIWw0LUUUIfg1Qefo8+DPtGHwTDDOukrxOGJT2ScA+Rn1wXGDkwJiRqCF7uGepuROG64nnJ8Y+2ULuD7Q8kEu70UYLhim3nOxxLDF8hKpbGe5XfSiXccRxwLFgXaWtsA0Wb6a/Tb+Xc8I7m+2wDQypH4V5gW8Jvkj4Z/mZ6MNqFUbQ4B4CzhWuEe0GIVKSlcJ88ebK/wblxyO/FEhz1lIuDYIXkxueFE41MIBQpFKej01hUiQp3hByClJbbnCQe5li06fTgxUZUp2pUSseKnQw6Q1hsObZYr6+88kr/idWU1IF4a/bRwksSEYsn+mivdzqKGF84NhhwCFtkuxIZIgoT9guxj5Dh3ubcRoU7BihexqETyDWO8aAowTnI6zaz/3TIeYnT0Sws9q/faRs7zHDCfaJ9VWW67a52ULjjOUeMby39iRPqY2zlna/ZittfsbX3vWMbSo6zrU9Otq/KfWzbK8ywnRVn2a5KFKebawfc54GqjAG/wHJquoYwrzHHrKwT1U84gV3ZCRa3vFVyrZqbnkVz0zLd9VvNifCqk93nRDdtglvGCYZKI52A/+hgxfl2bn4Q8KF1cNN7TTHr777Xw7Vhx7c4XCJ4DuOFwut6PK5h7qW8GgnFsYFw571L6DBCFSM7zyvEOZDuh2BAWEULhCJGQrFRjK08KxBT9HUQRVwzUVIJd96PnH8az39EPwKeCMAg3KmVwTs0NCLweLYgvqPT8QjnVrgjPhAYGCsCuRXuhPwjADFg4AhIBvnLLJcsNDs3BOGOpzXV8LWcH5aLCnfOS4jILFGixGGGN5bnvIZUv9AvCSP5xAt3zm8Q+xir6WOwPt7TNL7L7+IcIWSeayFVnnyA9XJ8cCLk5T2PMwrjCM4HjCdR2E4iRwnr5zrDAZBKuAcjFe/0o4XnGNcb1zjHEE81jT5ZEMCI50Ai4c754pqjzgD1hNhWDDZMw5lGhEc4N/STUgl3hDn3Edco0avJIEISUc79E/WShwK/iH4MIVznfGKoCr/JPnOO+Z9oSCBCD92T2+g8UXxJS+FO55UHPhc1DWu1Luavw4OeFyjHiFAcRCUF34KVmAdHshdwUYAHKmFV7AsPR6y6hG/HR1SIogMhZFiz8arQCeDc0pEMnTMs8ZxrpvPyJYWhOEEHBAMSHpDQKSkssrfvs51vrrTtz8534nu+7auw0PZWXGA7Ks22zaWn2tqH3rcVd4ywVXe/bmsfGOWE+1g3fZJtLfNRTLxP9+J9D6K97DTLKTPVcsq5Vt6J6vJOdONpL+86RmWcIH9srNnjTpQ/4Vpp18p86P52054YY1bqPdecWH/ctSedYK/s/n+GUPhp5oeLa+3+pnhdWycE2rpPL+TdZxf32dv9DsXqRhe8F4PONB3jvHRmRXpzJOEeCsHGe2UheNoQOwhhDHR4NxEK5KATcRi8bqmEO4XC8ETyW4gB0pYQErwzg3BHpCASMZZiyCaKh+1F9GFMYj+YT58rN6HyweNO3yIq3Fl/+G4y4c6zLaRA0U9JFYnENgXnQ7RI8NEQhDth06mitnAUsVxUuJOmFNLBOB/xhBQ83l0Ie9IfQmHheOGOUQUxGeYT9cBvUWeAPg3HKAhURDjnPGooSEZUuHO8jxb6j/wm7+L448P1E4agJSoBY8XxEu4cnxAqT3+W4xMax4z+QLRYayLhHgUjA8YPzknYL84h68eIyn0Qov0SCXfuYeYFT3gyuH9w3hBlQNQGcE1Tp4ptZ58CCHVqSrFeoly4D7nH+F/CXRwtaSncAesxOR88GMkRycuD6USHhwHWwWDpjjZeooTw8LIsqvBAJYeLhzkdYCzcWKRTWc9FesNLCa8P1nzOKS9fIgNCZ4COKB1YwjqxihdWnndhEobCI5UlHches9sOjNls+3uusT1Pf27bqsyyDQ9PtNX3vGPLbxtuq//7lhfu60qNsY1PjLfNT06yLWWmxMT7TO+h3191ieVUW2KWscC12WaZsw561KviaZ9h5oS9lXUi3Il9q+z+ruREd1kn7B91Qv1xJ9TLOzFfbbJZPbdMU7c8Q8U955Z73v1P1flWMQF/SMS7RhE7PO+d3Lz5BZ92EDpm0cJK4sQA4zEh6BTJIp2P1DfONX0WCNFw0c57AC8t8xAWeFvxwIYw99DwEEIq4U6eNTnzPC9phCCzLEInCPcA4oi+AkVxEcQIT7yA0QizqHCPivIoCEp+i+1F+GFgIEeX7Q0G12TCnfc5nlSmk+OdCqIIQsh8XgvLBuFOzRCEG8ed/YpvoRBvMuFO5fd4wjw87/RPaYSCMw0DSiLYHn4LwzXHOdQmoP+GqCOnmlD63HKswp3aSmwvYd/xhgIKwPGeZj4Fm4Nwx2iTyHFyrMId7zrf5zonNZOQdFIn2A7EeTQlj/9TCXeiXVgXAhyRDlyjTMNwRL85CPdE9+ejjz7q50XrVSQDJxl9GQoYQ/D8c7yiEXNMD8YeIkBIQaWGA/8TDQocW/pECpUXRyJthTtgLca6xougOHbgcwsvXyz+hN7Q+Dt+zPiiCNZLXnYMcRcaw5PxoBdFE6zUeCIJaeN88knHN5xThD3nPFXKwokOL3Q6JfF5gIXOrmzLXr3H9i/cbnunb7Ttw5fa2mrj7Iv/vm1rHh5ta0t9YBueGGebnnTivcwk21p2qg+Z3115vmU74W4ZriNTc7lZraUHC9HVWmRWwwmMTCfmq7nPau7/mgudOHf/159nVneOE/JOsFd0rY77u4ET+wwT97QT+82ceG/hxHsL12E9JOCdSA/iHeHuve+udXTzt+VtyMK8wrOLUFuMjog6cWKBIMDjTbgsYo+wYzxneNOBdCdyba+55ppDYhC4LkIobfD2BY87RgCENZFzPBchCHeETTxEKSFseJ4idvhtxBVeyqhwp0YOBlHmsS6EHp80RHxIs4sKd8TlCy+84AUJXvYAz+ewHgwBpKLh3QzrY5+TCXcIAgpjLUaLZGC0xECAKIqmAR4NHBd+i+0jVD3kWEcb04geYDmORThXCK0QKk+dlWj/k9BrHAhsG9EAnHsax5jlg8eddSDg6JNhxMNIwH5hRKA2BcUkaRwTPLbMp+9GPjXfQcRHj308UeGe21pQUXjHko9OdBdCNsD1wnXH/uEF5hrFi42xBkMRRhfOPe/pQBDuealFFBXuFMulwjy1DajXw33EfcUx5TxQc4pjnUy4c8xD8WPuTe43pnFPMY1aRRA11pCiyPEPdZ4waHEdE2qfKlIDQxDPd66tIxlOKFjMceY3qTXAMeUeJbou1Ipgf/nt3ERbiOKNu67TV7gLIURxgw4RharoPPOCT1tynID5dIN9WWmMrX7ICffHx9i6J8fZBifcN5WZ6IT7R7ajwkzbW/kzy6m27KBwz3StuhPvNRDwriHk+Tsr1uo5Ud/UifwWi82aO3Ff3XWIKjoRU88Jd4aIe2r2wWHimrqOanOEe8zz/kLwvMeE+6HQedcGue8VMAg7OqGEmyKuxIkHnjvuT8QBjb8RCUBKEPcwHXVEKkKNyAu8sYh0BFMw6FBkDHFJPQTEJutlfYC4Zx14ZRExeAEJMyfklxBwvKJBdOGpI482muMOjJbC+pmO0ESw4dEMHm1C7RFPCIYg3NlGItzwAkbzd/F+M59GMTREejBgHMnjDhgpwlC1eB4peoZ3nWNHQyB3797dHwuWQQzn9RnIOcDDSkMgUVwuUWMeNXQY7i0q0DEYhCF7ifwjXBujC2KZaVSHj8J5YXoQ7jwD8Kgj7jAOhIaBJlR7D41pCPDocgzZm8ijHAjCHYGN55jrgGuEz/B3aBghMARHayhwjbEc24woJ1yfa4JripQLrqWQ+855whuMoGU6f0fD14NwR/ATWs+xS9Z4HkbrFnDt4XVm3RiFELiIcvLM+Z9rkXXzm4h61s+xYX78sxWhzX3B8mEIRYwfYfvC/gThzrFjvRzHcJ3zicGN+UQjYERjG8P9zvq4n8NoUuTfMy8RXAPsG/vDstxfnDfg+LPe8MyIPk+ESIW7RiTchRAiXaADTecD0Yf3I93Z1HGWrXroHVv75FhbX/pD21h6om0uO8W2lvvE57jvr7LIj//uhXtoCPhMN43P6LTarlPTyIn3p514p9VyIr3Ch2Z1nGBvONfNiwh3vO7POOH+LB73IN5jwt173Z1ob/2R2cz/eTwLCsJJ6QBTHDSV10acuOCZRfgG4REanmS8rKGDHoQ7Qh/RG4ViXYiqIJZoiAAaRcXwgIYcWUQMQof82qhwx4DE78aHMRPxxDpYHiEVzVPHaIjYQ6BEvb7kZLOt/A7iGu8nUBE8N8XpgPlBGAWxxroQY2Ean6QbFHY9G84h4pvjznlgWzlmiPZo+DbEDweHCGPEB4wsGGAQtbltpEFgGIkaTeJBwPKMQcCGa4PrhPNDi5/OtYIRJwpiEUNJ9DplP6mZFA3bR7izPrzLeMcR7UQIBMjX57u5bexjAOFKETg8ztwXDBXHdTds2DD/G1wvHGtELiB8udZIT4jPB8fozb5zXILRg+NESgP7H0ZtCMIdoxppHkQRRK9zIlhYP8tEr1EEPusP+8G5DZ76eLi/GQo2nA+MPscyjLIQAQl3IYRIM+i00pGi05Hu7Jq61lZXHGNfPjHmoHAvM9G2lDsYJr+r8jzLruaEeFS0p2p43RHv9ZwgoDGme2UnwGsRKu86Yo1iXncfLu/E+zOxkPnnnGiP97oj2ru5+TsKPrUG4USHj5xeUXwh/JxaHeS34s1EZMeL86hwjx8ODkGDmCGcl0ZoOjnXhNciTIK3DlgPRgEER3S8aLyGPEv4fhSWQeAg7HjORIV7olxrQoMRMIjuUHyPIdAA73ZuhTsQOcA+423mN6m0H/K9EY54oBGLeYFwd0LTSR3A65rbxvI0wrGDUQWICCB0HWFJ/ZFkYdHJxnEHPM1EUyAsj9QQjUGkpgKhSfFWhHe4Poh8wKiDlx9xTTQE00l5IOKDayQR7C9GRrafKId4wnBwCPxEodykVeDVJpydz1SN4m3x12IAYxLCPTSufRoh7jSOP/8THUH0R7xhB4MH+8An5w0wVjCN/QvpGUG4YxxJBmKeZRD9XJeEziP0+eQYE5UQNZDFw3EiFJ91JLomhMgrEu5CCJFmkPtIqCq5hOlOzp4DtqntLFvz+FhbX3aCbcLbXmGa7ag0y/ZWXfi/MPncNh9O775Twwn36rFc+DqxvHfC5b3X3Qmcp+O97jHxjnD3zQn3WWt5y8W2tODAY4SHio6zEKlIJdzjCaIUAUMFeoQaodAUoiV/GgHK/GiURzSnPgoiFdHOcJyIjKhwZx1R8HKGMcYJr0ac433k++Rss11HI9zD8FwMWwpUtaf+CRFG5C8TNo6hIC8gZll3XhviNFnoc4CQc6qOY4AI4fWERPP9u+++2/8fYP9DhXaMeckaQpAw8YsvvtinMuQFahuRt493OZWoTESIzAjGmChBuCerKp9fhDoBuWmEuVPALoB3nmcuEREhDYWohyCe8X4HgnBPVFU+ENII8KoDnnWMAdwLIYUi+vvxMC+MJMC9JkR+IeEuhBBpBt4ZOsbJKhSnG/uXb7d11afY+jITbXP5j21bxU9tV5X5dqCaE96JxPmRWqYT7llLDwr3mk6413ad0LrzzRoQLo/Xfdb/vO7Ng3h3ot2Ldyfan3Oi/Q33vb2pO+DHCzxLdNrwnoniC15tPH1EXiQTPISb07lHsCUrMoaQRKQTwoxBj+XjG6KKfO14LyTDnSEI8WKzHQhbhAsCle+xXtYfzXGPCne8wEH8kOuN1xJPP2HgTMPLj4ExLHM0wp1jEwXjAYXfjkW4I17JhWab4lsYax1jBcbRRMsQbYAHOhV4uVkPBe6CyEbcUpwtvgo9xgiMG3wHz3eihoEPrzXeXYwheSk2B4SOs03UUIiP7IiCACWygGJ4NCI4Qu0Bhl/Gm02kCDUA2CeMQkRCHG/hjkEkbFOixnZgtOJaJqoghMNzDqJjvgdvO4VeMYjwLI4e06MR7mGkiADbyPXDvFTCnWuZSA0K7TH8mxD5hYS7EEKkGYRK4uEi/zSae5fO7P10k23O+MS+Kj/Ndlaa473tRxUmf1hbfrhwrxUT7vVcRwmve+OY190XqYuFy+N1R7w/S0G6BQVeST5Ah42OM1Wqk3UKRfGAHGk6+AxrmyxMGcHMMFhUlCZXPBGE7eJhxKOI2GAoL0ZYoVG5HCGMgOa3SpYseZjwRGQTWownkvkInpDPjMgJ3vlk47hTUZyQdq7pqVPdvRWD51LFihW9MYH9DN/NjXDH+8l8cqOjYHQIwh2Rlt+wTn4Xg0EQd0cL9zSRAqyH40jEQyqIJKAoGqHqpDrwGd8QdwhljLWEYR8p8iIZXGNBuKfy2rPvpCeE6vqcX64v9gnDEIaecI1QdJBK91x7x1u4c34wFFAZPlGjTgMecHL22cYg3Ln+eFcyrnqoC4ABJ+SpY7CKppXkRrhzPljmiSeeiE05CMa4INxTFQ8EDCnco0LkJxLuQgiRhhCKifeFStBFhf0Lt9nO5xbZrsrzbV+lhZZTZZlZNSfEaQkFerJG4TondLKccK8RE+6Ey9ebZ9YgItybOOHe1In2pk60Nyc83v090n1vV+EJZooq0clNFHIqihd02ungM95zqiEuo0I7ESFMHXGfbFk8qIQzU+QtkWjDs09lcSqQk/+MJz6aS51MuOONJ084kQBBACL8U+W4421k3Xi7+W2Km5ErzHzC4jFaMJ1PDAGIMrykeH5ZFnGFOCYknX3Hg01ofV6ENwKU3y1RokTCXO0jgQgPuewUamM7MTRgSEl2Xth/QqsRxKGqfKKGYQUxyvlLFamDcMbwQX42xy00jh9FBfkdrgPGIw/HPDS+gwBmm/hk/HiiumgYfDjeeNmJpiASAEMNhkgEdXyoPPuLkGbIOM7n0Tau6TAUWoBh20gbYR84HolaqL7PtROq5HONIpKjQpr0EY4nYj7+3ksk3BnxgHQHRD7HMlzPRKaE48vxfOyxx/x2MI9jxnTWw70VjXahPgVGD65n0lqEyC/cvSfhLoQQ6QYvfjpL5cqVi00pGuTszrYDH2yy7JarzBp+4YS3+6zmOk5VXeMzV82JdwrV1XGtnhP/9Z0Yb+BEfCMn4pu4zlpTJ+LJdSdkvoVrLzqhMnSxUyeFW4Ua6MzRYSTdQRRvgnBHuOFFRQQRah7fwnTyaBMJwBtuuMGvh1D4RKMUMOwUebQIHjyP0WG/cksy4Z4b8HImE+6sF6MBnt0gUhG90aHQoi1MZxn+RyQxdByiiPxiBP2tt97qRfjRkhfhjqcWocvzGKHL98kjJ6SeIeDwTBPFQMoBxz0+Qgqhi+BF5FP7AqMKxydZ4/ilMkrwGxiC4oeZCy0I3ETzaOTbH+31kSzHHcHKeeV4HG3je/G538Eo8re//c2fH34rWctNhXZy3ROlXCQS7jyvSVUI12GyazQ6PXqNEj2CAStAmD6/QaPOhBD5hYS7EEKkIXgRCMkjdy867m2Rgf7Qoj1mH+4we8t1Zoc5wTEwt22r5bRbbdlV5lt2jQWuuc+artWaZ9l15lp2bSfah7tj8oHrvE3bYrZm98HfLGQIz6TIGOHDiQSYKF7gsaTjTuQMOeCEWDOkWqJG+DbhuXh14xk4cKA3BlHEjAr1hM4T/k6j+jaeakKs+S28gnm59o5FuOPRJP+d75ITjwDl7+Bxx0uOaGa9R9uIOGIsbQQ0Qg8BiVCKH8M7N+RFuCO2qczP92h4ivGwA/uF15kQd+YhRvFeR8UiIhPBi8DHo805Y52pGtEQ0dDuKBgG8FQT2UMkxNE0cu3feeedo06/SibcqZZPUTg88kfbOEbRdUEQ7ni58fiHqvLJWihCd7QkEu4Yzzg2pDUkug5TNa5RwvUxoAW4n9gfKsqr1onITyTchRAiTcGLQ6efPMgTgn1OUOSmub5UztJttj/rI9t340jbd9vog+1frt3+ru27Y7TlfJl4/NzChM4kYfIIMCHosDPkGiGzhPYSVp2s4e0jTDfZuNAUXEPgI+CDiIw2vPIvvvhiQo98bkBgk/fMuvAWHg0IQUKTCeVHsOCdZj0UPMtPoyMh4hgv2NdkwjYVCCy2i+iA3I6pzdB3eFUxQhCyj9c/HoQtBhOMrHhhKQAYQJxyDYTzlJtG7YFkudeFASKb7eI6PZ5G5Hr16n3tWKRqDLGYF3iv8n3y5dPpOAuRGyTchRAiTVm8eLEPiSxVqpT37hQ7lm63nLIfW84NYyznpnGWc/OHlnPLeMu5Y6LZqvQ6HuTg4g3FG4jnXQjuWfJu8Q7zmapRoZridKkEKWKTkF48jYhQBDYh2wjlY73mCM/Gs82Qcscqzgj7Zz14jqNeyGOFQmEILrzceYH9CtuV2xx5hDcVyY90TIhyIM+alIjoPlNHgMgLxG+iSunxDQ82z33Wly5w3XG9sQ/5eT7jobge3vhExyW+sS15iboAzhPXAYa1dDrOQuQGCXchhEhT6CQxvi7euGJbnXbxdrNSn5j97UOzWya45kT7HZPTTrhTfZvcTQpEyYsjRP5CJAIjNSDcCcUXQojiiIS7EEKkMeTcMVQPlX6LrXdg/ldmD001u3H8QeF+e3oJd7ykVGPmPOENEkLkL0QjkD9OyHqiOgBCCFEckHAXQog0hlBNiiNddtllfsiaYsvMLWYPf2x2/Vizx6ebrT9+IZtHC1Waf/rTn/oc5LwMMyWEEEIIcSQk3IUQIs3p1KmTr+rbtm3b2JRiyqytZh2WmE104nh/ekQfEAXRokULX5TuhCkiKIQQQoi0Q8JdCCHSHLzuVHw+//zzj2tVX3H0MBTW2Wef7fNv5W0XQgghxPFCwl0IIYoAL730kn33u9+1unXrxqaIdIAhvL73ve9Z9+7dY1OEEEIIIfIfCXchhCgC7Nixw6677jo755xz/NBRovCZMWOGH+OZ8apVMCv/IdKkdOnS9p///Mfuv/9+P9we42UnG+tcCCGEOJGRcBdCiCLC8OHD7aSTTrKSJUse1/F0xZFBqN933332ne98x1f+F/nP8uXL7Re/+IU3jhBtwlBgl19+uX311VexJYQQQojig4S7EEIUERh2DO8jQmbEiBGxqaIwGDhwoP3whz/0Q1SJ4wOe9VGjRtkbb7xhpUqV8sL9yiuvlHAXQghRLJFwF0KIIsTs2bPtvPPOsz//+c+2Zs2a2FRRkOAJvvbaa+2iiy6yRYsWxaaK40nr1q29cL/iiisk3IUQQhRLJNyFEKII4Z7Z1qZNG/vGN75h9evXt3379sXmiIKAEPmsrCwvIhmmTxQMzz33nIS7EEKIYo2EuxBCFDEYduyOO+7wY7t/8MEHsamiICCfnbx2CqVJQBYcEu5CCCGKOxLuQghRBJk0aZJdeOGF9rOf/cyPJS6OP0uWLLELLrjALrnkEps2bVpsqigIJNyFEEIUdyTchRCiiNK+fXv79re/7aubb9myJTZVHA+Icrjrrrt8dfOuXbvGpoqCQsJdCCFEcUfCXQghiihUma9QoYIfIk757sePvXv3+rx26grw6d6bsTmioJBwF0IIUdyRcBdCiCLMhg0b7JZbbrFTTz3V+vTpE5sq8pPOnTvbKaecYrfffrsiGwoJCXchhBDFHQl3IYQo4ixcuNCuvvpqO/PMM2306NGxqSI/eO211/x47dddd50tXbo0NlUUNBLuQgghijsS7kIIcQIwZswYO/fcc+2cc86xiRMnxqaKY4GK/WeddZYfr33y5MmxqaIwkHAXQghR3JFwF0KIE4RBgwbZ6aef7qvNT5kyJTZV5IVx48Z5QwhRDHjdReEi4S6EEKK4I+EuhBAnEL169bLTTjvND1k2fvz42FRxNLz33nvey37GGWfYwIEDY1NFYSLhLoQQorgj4S6EECcYFKn7wQ9+4Md4J9xb5J6RI0f6iAUiFwYPHhybKgobCXchhBDFHQl3IYQ4ARkyZIjPzybce/jw4bGpIhUDBgywH//4x/aTn/xE4fFphoS7EEKI4o6EuxBCnKCMGjXKh8wzlFnr1q1t//79sTkiCuPfP/PMM/bd737XLr/8chs7dmxsjihMXP/EX7O0Fi1aSLgLIYQo1ki4CyHECcxHH31kv/vd7+yb3/ymVa5c2datWxebI2D16tVWtmxZLwr/+Mc/2owZM2JzRGGzYcMGq169upUrV86uvfZaf44wrEi4CyGEKI5IuAshxAnO4sWL7b777vPC56abblLF+RgU7/vLX/7ij8sjjzxiy5Yti80R6QDj5p999tn+/Jx00kn2rW99y66++moJdyGEEMUSCXchhCgGbN++3Ro3buwrpV988cXWtm1b27NnT2xu8WLXrl32wgsv2AUXXODrADRr1sxPE+kF1+ywYcOsb9++1q9fP+vdu7e98cYbPrVBCCGEKG5IuAshRDHBPe/trbfest/85jf27W9/2+655x775JNPYnOLB5MnT7Y77rjDe29///vf2+jRo2NzhBBCCCHSFwl3IYQoZqxYscLKly/vw4+poI7H+UQPP968ebM1atTIV43HaFG1alX74osvYnOFEEIIIdIbCXchhCiGZGdn2+uvv26/+tWvvIAnd/jVV1894QT81q1bbejQoXbllVce2s933nnHRx8IIYQQQhQVJNyFEKIYQ+XuBg0a2KWXXuqLgN1111325ptv2qZNm2JLFE3Wr1/vDRO33Xab36+f//zn1qRJE9uyZUtsCRFguLXly5fbokWLbNu2bbGpQgghhEgnJNyFEELY9OnTffj4+eef7z3T5L/36tWryIWTr1y50rp372533nmnF+wXXXSRZWVl2axZs2JLiHg2btxopUqVsquuusoefvhhGzVqVGyOEEIIIdIFCXchhBCHoHhb7dq1fe47ueB/+tOfvEd+2rRpsSXSk6lTp1rdunX9WOwYHjBA1K9f349jL1JDOkG1atV8wT6MHT/96U/ts88+i80VQgghRDog4S6EEOIwCJ2eP3++tWjRwos4xBxCuESJEtaxY0dbvXp1bMnCZdWqVfbSSy/ZLbfcYuedd57fzssuu8wP9YbwJI9fHBnXD/CpESNGjLBzzjnHH8eWLVvG5gohhBAiHZBwF0IIkRAEHcXqhgwZYv/85z/t9NNPt1NOOcV++MMferHcrl07mzNnjvfYHs8x4dmO3bt3+98h5L1169b2j3/8w0477TS/PT/60Y/s9ttvt1deecXnaLO8OHoYH/2aa67xwr1mzZqxqUIIIYRIByTchRBC5AqKlz3//PNeNP/sZz+z73//+17kXXLJJfbII49YmzZt7N133/XieunSpbZu3TovpBGEuWHv3r1++bVr19qSJUv8esi3btWqlT300EOHvP+nnnqq//2bb77Zz+O3xLHDefrd737nj3GtWrViU4UQQgiRDki4CyGEOGoIpacIXMWKFb03/vLLL/eCGtGHoP/lL39pt956q5UsWdIXh3v66ae9sO/UqZP/Xo8ePfwn/+NBZ35mZqZfHm/+FVdc4b3prO8HP/iB/59Q/SpVqljPnj2Vg30ciAp36hwIIYQQIn2QcBdCCHFMEE4/Y8YMnyPdvn17L/rwkP/973/348Sfe+65h0R9ovaNb3zDzydPneXx6FPdvE6dOvbyyy/ba6+9Zp9++qmGKjvOHDhwwK699lp/TipVqhSbKoQQQoh0QMJdCCFEvoOYZyi5hQsXetFNdffx48fbmDFj7P3337f33nvPf/L/hAkTfFV4lmN5it9JpBcORDUg3H//+9/bl19+GZsqhBBCiMJGwl0IIYQQHgwpF198sZ188sm+wvwzzzyT6xoFQgghhDh+SLgLIYQQwuP6BD464rrrrvOe9/Lly/uigUIIIYQoXCTchRBCCOEZNmyYnXHGGfatb33L/vznP/siguS+CyGEEKJwkXAXQgghhPe2U1AQT/tf//pXP26+EEIIIdIDCXchhBBC2P79+w8NB1e1atXYVCGEEEKkAxLuQgghhDhsHPdatWrFpgohhBAiHZBwF0IIIYT3uIdx3CXchRBCiPRCwl0IIYQQ3uP+m9/8RsJdCCGESEMk3IUQQohiDFXjly5dau3bt7czzzzTC3f+FkIIIUT6IOEuhBBCFGM2b95sZcqUsZNOOsmL9l/+8pe2atWq2FwhhBBCpAMS7kIIIUQxZsOGDfbYY4/Z9ddfbxkZGTZ79uzYHCGEEEKkCxLuQgghRDEmOzvbtm3b5sdt37t3b2yqEEIIIdIJCXchhBBCCCGEECKNkXAXQgghhBBCCCHSGAl3IYQQQgghhBAijZFwF0IIIYQQQggh0hgJdyGEEEIIIYQQIo2RcBdCCCGEEEIIIdIYCXchhBBCCCGEECKNkXAXQgghhBBCCCHSGAl3IYQQQgghhBAijZFwF0IIIYQQQggh0hgJdyGEEEIIIYQQIo2RcBdCCCGEEEIIIdIYCXchhBBCCCGEECKNkXAXQgghhBBCCCHSGAl3IYQQQgghhBAijZFwF0IIIYQQQggh0picnJyc/w+vn74Y5UYy2QAAAABJRU5ErkJggg==)"
      ],
      "metadata": {
        "id": "4VySYZvNv1-p"
      }
    },
    {
      "cell_type": "code",
      "source": [
        "from typing import Annotated\n",
        "from typing_extensions import TypedDict\n",
        "\n",
        "from langgraph.graph import StateGraph, START, END\n",
        "from langgraph.graph.message import add_messages\n",
        "\n",
        "class State(TypedDict):\n",
        "    messages: Annotated[list, add_messages]\n",
        "\n",
        "graph_builder = StateGraph(State)"
      ],
      "metadata": {
        "id": "ouNGigHCzDxL"
      },
      "execution_count": null,
      "outputs": []
    },
    {
      "cell_type": "markdown",
      "source": [
        "`add_messages` : 메시지를 리스트에 추가하기 위한 함수\n",
        "\n",
        "```python\n",
        "msgs1 = [HumanMessage(content=\"안녕하세요?\", id=\"1\")]\n",
        "msgs2 = [AIMessage(content=\"반갑습니다.\", id=\"2\")]\n",
        "\n",
        "result1 = add_messages(msgs1, msgs2)\n",
        "# [HumanMessage(content='안녕하세요?', additional_kwargs={}, response_metadata={}, id='1'), AIMessage(content='반갑습니다.', additional_kwargs={}, response_metadata={}, id='2')]\n",
        "```"
      ],
      "metadata": {
        "id": "ejRFGVUXd8NH"
      }
    },
    {
      "cell_type": "markdown",
      "source": [
        "### **Node** - 실제 작업을 수행하는 단위"
      ],
      "metadata": {
        "id": "-Q80VucLdbtc"
      }
    },
    {
      "cell_type": "markdown",
      "source": [
        "![그림5.png](data:image/png;base64,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)"
      ],
      "metadata": {
        "id": "nI5RuG_GwBI9"
      }
    },
    {
      "cell_type": "markdown",
      "source": [
        "**chatbot**"
      ],
      "metadata": {
        "id": "AXS4Izk_du5_"
      }
    },
    {
      "cell_type": "markdown",
      "source": [
        "노드의 반환값(return) 은 state 업데이트 값!"
      ],
      "metadata": {
        "id": "kXJrhVypecXI"
      }
    },
    {
      "cell_type": "code",
      "source": [
        "def chatbot(state: State): # Agent\n",
        "    response = llm_with_tools.invoke(state[\"messages\"]) # tool_calls 가 채워져있는 답변 or tool_calls 가 비워져 있는 답변\n",
        "    return {\"messages\": [response]}\n",
        "\n",
        "graph_builder.add_node(\"chatbot\", chatbot)"
      ],
      "metadata": {
        "colab": {
          "base_uri": "https://localhost:8080/"
        },
        "id": "F5JahKevI9_F",
        "outputId": "a15271a1-f914-4493-819c-95a870685405"
      },
      "execution_count": null,
      "outputs": [
        {
          "output_type": "execute_result",
          "data": {
            "text/plain": [
              "<langgraph.graph.state.StateGraph at 0x7c828bc233d0>"
            ]
          },
          "metadata": {},
          "execution_count": 23
        }
      ]
    },
    {
      "cell_type": "markdown",
      "source": [
        "**tools**"
      ],
      "metadata": {
        "id": "o-xz-aXTdwm-"
      }
    },
    {
      "cell_type": "markdown",
      "source": [
        "tool(도구) 실행을 위한 노드 추가!"
      ],
      "metadata": {
        "id": "BiHARxSAehhQ"
      }
    },
    {
      "cell_type": "code",
      "source": [
        "from langgraph.prebuilt import ToolNode\n",
        "\n",
        "tool_node = ToolNode(tools=[tool]) # 웹검색도구를 실행하는 노드\n",
        "graph_builder.add_node(\"tools\", tool_node)"
      ],
      "metadata": {
        "colab": {
          "base_uri": "https://localhost:8080/"
        },
        "id": "JPHJlu05KCd6",
        "outputId": "e6dbfbce-2520-4910-d1f6-cde06340d314"
      },
      "execution_count": null,
      "outputs": [
        {
          "output_type": "execute_result",
          "data": {
            "text/plain": [
              "<langgraph.graph.state.StateGraph at 0x7c828bc233d0>"
            ]
          },
          "metadata": {},
          "execution_count": 24
        }
      ]
    },
    {
      "cell_type": "markdown",
      "source": [
        "### **Edge** - 노드 간의 연결"
      ],
      "metadata": {
        "id": "86znc3qidpZu"
      }
    },
    {
      "cell_type": "markdown",
      "source": [
        "![그림6.png](data:image/png;base64,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)"
      ],
      "metadata": {
        "id": "81RMku7LwGEl"
      }
    },
    {
      "cell_type": "markdown",
      "source": [
        "**조건부 엣지, 라우팅 (add_conditional_edges)**\n",
        "\n",
        "`tools_condition` : 도구 호출 시 분기처리를 위한 함수\n",
        "- 마지막 메시지에 tool_calls 가 포함된 경우 ToolNode로 라우팅되도록 conditional_edge에서 사용"
      ],
      "metadata": {
        "id": "Lqq5tR9lk276"
      }
    },
    {
      "cell_type": "code",
      "source": [
        "from langgraph.prebuilt import tools_condition\n",
        "\n",
        "graph_builder.add_conditional_edges(\n",
        "    \"chatbot\",\n",
        "    tools_condition, # 도구 호출이 발생했는지 발생하지 않았는 지 판단해주는 함수\n",
        "    {\"tools\": \"tools\", END: END},\n",
        ")"
      ],
      "metadata": {
        "id": "A1bridmtKcRq",
        "colab": {
          "base_uri": "https://localhost:8080/"
        },
        "outputId": "9734bbfe-44c9-4716-fc30-ec221f87af6f"
      },
      "execution_count": null,
      "outputs": [
        {
          "output_type": "execute_result",
          "data": {
            "text/plain": [
              "<langgraph.graph.state.StateGraph at 0x7c828bc233d0>"
            ]
          },
          "metadata": {},
          "execution_count": 25
        }
      ]
    },
    {
      "cell_type": "code",
      "source": [
        "graph_builder.add_edge(\"tools\", \"chatbot\")\n",
        "graph_builder.add_edge(START, \"chatbot\")\n",
        "graph = graph_builder.compile()"
      ],
      "metadata": {
        "id": "rKyZ4XrQ80iu"
      },
      "execution_count": null,
      "outputs": []
    },
    {
      "cell_type": "markdown",
      "source": [
        "### **그래프 시각화**"
      ],
      "metadata": {
        "id": "Ybsyj6O8kJXZ"
      }
    },
    {
      "cell_type": "code",
      "source": [
        "from IPython.display import Image, display\n",
        "\n",
        "try:\n",
        "    display(Image(graph.get_graph().draw_mermaid_png()))\n",
        "except Exception:\n",
        "    pass"
      ],
      "metadata": {
        "colab": {
          "base_uri": "https://localhost:8080/",
          "height": 266
        },
        "id": "nIxr4dg1wW58",
        "outputId": "a012aa74-ff71-441a-deda-8ed4ce1906b0"
      },
      "execution_count": null,
      "outputs": [
        {
          "output_type": "display_data",
          "data": {
            "image/png": "[encoded data removed]",
            "text/plain": [
              "<IPython.core.display.Image object>"
            ]
          },
          "metadata": {}
        }
      ]
    },
    {
      "cell_type": "markdown",
      "source": [
        "### **실행**"
      ],
      "metadata": {
        "id": "LM0yrjwskNpg"
      }
    },
    {
      "cell_type": "code",
      "source": [
        "while True:\n",
        "    try:\n",
        "        user_input = input(\"User: \")\n",
        "        if user_input.lower() in [\"quit\", \"exit\", \"q\"]:\n",
        "            print(\"Goodbye!\")\n",
        "            break\n",
        "\n",
        "        response = graph.invoke({\"messages\": (\"user\", user_input)})\n",
        "        for msg in response[\"messages\"]:\n",
        "            msg.pretty_print()\n",
        "    except:\n",
        "        break"
      ],
      "metadata": {
        "id": "lFBtGlU6wYxt",
        "colab": {
          "base_uri": "https://localhost:8080/"
        },
        "outputId": "8aba7a9a-6977-4c41-91f9-2b92bff7b4ae"
      },
      "execution_count": null,
      "outputs": [
        {
          "output_type": "stream",
          "name": "stdout",
          "text": [
            "User: 안녕하세요\n",
            "================================\u001b[1m Human Message \u001b[0m=================================\n",
            "\n",
            "안녕하세요\n",
            "==================================\u001b[1m Ai Message \u001b[0m==================================\n",
            "\n",
            "안녕하세요! 어떤 도움이 필요하신가요?\n",
            "User: Langgraph 가 뭔가요?\n",
            "================================\u001b[1m Human Message \u001b[0m=================================\n",
            "\n",
            "Langgraph 가 뭔가요?\n",
            "==================================\u001b[1m Ai Message \u001b[0m==================================\n",
            "Tool Calls:\n",
            "  tavily_search (03bf361f-8477-46ec-9312-2839ed55e6a0)\n",
            " Call ID: 03bf361f-8477-46ec-9312-2839ed55e6a0\n",
            "  Args:\n",
            "    query: Langgraph\n",
            "    search_depth: advanced\n",
            "    topic: general\n",
            "=================================\u001b[1m Tool Message \u001b[0m=================================\n",
            "Name: tavily_search\n",
            "\n",
            "{\"query\": \"Langgraph\", \"follow_up_questions\": null, \"answer\": null, \"images\": [], \"results\": [{\"url\": \"https://www.ibm.com/think/topics/langgraph\", \"title\": \"What is LangGraph? - IBM\", \"content\": \"LangGraph, created by LangChain, is an open source AI agent framework designed to build, deploy and manage complex generative AI agent workflows. It provides a set of tools and libraries that enable users to create, run and optimize large language models (LLMs) in a scalable and efficient manner. At its core, LangGraph uses the power of graph-based architectures to model and manage the intricate relationships between various components of an AI agent workflow. [...] Agent systems: LangGraph provides a framework for building agent-based systems, which can be used in applications such as robotics, autonomous vehicles or video games.\\n\\nLLM applications: By using LangGraph’s capabilities, developers can build more sophisticated AI models that learn and improve over time. Norwegian Cruise Line uses LangGraph to compile, construct and refine guest-facing AI solutions. This capability allows for improved and personalized guest experiences. [...] By using a graph-based architecture, LangGraph enables users to scale artificial intelligence workflows without slowing down or sacrificing efficiency. LangGraph uses enhanced decision-making by modeling complex relationships between nodes, which means it uses AI agents to analyze their past actions and feedback. In the world of LLMs, this process is referred to as reflection.\", \"score\": 0.91760606, \"raw_content\": null}, {\"url\": \"https://www.datacamp.com/tutorial/langgraph-tutorial\", \"title\": \"LangGraph Tutorial: What Is LangGraph and How to Use It?\", \"content\": \"LangGraph is a library within the LangChain ecosystem designed to tackle these challenges head-on. LangGraph provides a framework for defining, coordinating, and executing multiple LLM agents (or chains) in a structured manner.\\n\\nIt simplifies the development process by enabling the creation of cyclical graphs, which are essential for developing agent runtimes. With LangGraph, we can easily build robust, scalable, and flexible multi-agent systems. [...] LangGraph can be used to build a wide range of applications.\\n\\n### Chatbots\\n\\nLangGraph is ideal for developing sophisticated chatbots that can handle a wide array of user requests. By leveraging multiple LLM agents, these chatbots can process natural language queries, provide accurate responses, and seamlessly switch between different conversation topics. The ability to manage state and coordinate interactions ensures that the chatbot maintains context and delivers a coherent user experience.\", \"score\": 0.9108078, \"raw_content\": null}], \"response_time\": 1.46}\n",
            "==================================\u001b[1m Ai Message \u001b[0m==================================\n",
            "\n",
            "LangGraph is an open-source AI agent framework designed to build, deploy, and manage complex generative AI agent workflows. It provides a set of tools and libraries that enable users to create, run, and optimize large language models (LLMs) in a scalable and efficient manner. LangGraph uses the power of graph-based architectures to model and manage the intricate relationships between various components of an AI agent workflow. It can be used to build a wide range of applications, including chatbots, agent-based systems, and LLM applications.\n",
            "User: 2025년 AI 트렌드에 대해 찾아 알려주세요\n",
            "================================\u001b[1m Human Message \u001b[0m=================================\n",
            "\n",
            "2025년 AI 트렌드에 대해 찾아 알려주세요\n",
            "==================================\u001b[1m Ai Message \u001b[0m==================================\n",
            "Tool Calls:\n",
            "  tavily_search (7d640d06-35a0-45c0-8dc3-c0e58d66bd61)\n",
            " Call ID: 7d640d06-35a0-45c0-8dc3-c0e58d66bd61\n",
            "  Args:\n",
            "    query: AI trends 2025\n",
            "    search_depth: advanced\n",
            "    time_range: year\n",
            "    topic: general\n",
            "=================================\u001b[1m Tool Message \u001b[0m=================================\n",
            "Name: tavily_search\n",
            "\n",
            "{\"query\": \"AI trends 2025\", \"follow_up_questions\": null, \"answer\": null, \"images\": [], \"results\": [{\"url\": \"https://news.microsoft.com/source/features/ai/6-ai-trends-youll-see-more-of-in-2025/\", \"title\": \"6 AI trends you'll see more of in 2025\", \"content\": \"All Microsoft *   Microsoft 365 And Microsoft will remain grounded in its commitment to help people use and build AI that is safe and secure. “AI is already making the impossible feel possible, and over the past year we’ve seen significant numbers of people and organizations moving from AI experimentation to more meaningful adoption,” says Chris Young, executive vice president of business development, strategy and ventures at Microsoft. “There could be synergy between how we are training the models and how those models are powering agents in return,” says Ece Kamar, managing director of Microsoft’s AI Frontiers Lab. That’s because Microsoft Copilot can support you throughout your day as your AI companion. *   Microsoft 365 *   About Microsoft\", \"score\": 0.98595, \"raw_content\": null}, {\"url\": \"https://sloanreview.mit.edu/article/five-trends-in-ai-and-data-science-for-2025/\", \"title\": \"Five Trends in AI and Data Science for 2025\", \"content\": \"Data and AI leaders in Randy’s 2025 AI & Data Leadership Executive Benchmark Survey said they are confident that GenAI value is being generated: Fifty-eight percent said that their organization has achieved exponential productivity or efficiency gains from AI, presumably mostly from generative AI. In our trend article last year, we noted that Randy’s survey found that the percentage of company respondents who said that their organization had “created a data and AI-driven organization” and “established a data and AI-driven organizational culture” both doubled over the prior year (from 24% to 48% for creating data- and AI-driven organizations, and from 21% to 43% for establishing data-driven cultures).\", \"score\": 0.98397, \"raw_content\": null}], \"response_time\": 1.49}\n",
            "==================================\u001b[1m Ai Message \u001b[0m==================================\n",
            "\n",
            "2025년 AI 트렌드에 대한 정보를 찾았습니다. 다음은 몇 가지 주요 트렌드입니다:\n",
            "\n",
            "1. Microsoft Copilot: Microsoft Copilot은 AI 동반자로서 하루 종일 당신을 지원할 수 있습니다.\n",
            "2. GenAI 가치 생성: Randy의 2025 AI & Data Leadership Executive Benchmark Survey에 따르면, 데이터 및 AI 리더들은 GenAI 가치가 생성되고 있다고 확신하고 있습니다. 58%는 AI, 주로 생성형 AI로부터 기하급수적인 생산성 또는 효율성 향상을 달성했다고 말했습니다.\n",
            "3. 데이터 및 AI 중심 조직: Randy의 조사에 따르면, 조직이 \"데이터 및 AI 중심 조직\"을 만들고 \"데이터 및 AI 중심 조직 문화\"를 확립했다고 말한 회사 응답자의 비율이 전년 대비 두 배로 증가했습니다.\n",
            "\n",
            "더 자세한 정보를 원하시면, 제공된 링크를 클릭하여 해당 기사를 읽어보실 수 있습니다.\n",
            "User: q\n",
            "Goodbye!\n"
          ]
        }
      ]
    },
    {
      "cell_type": "code",
      "source": [],
      "metadata": {
        "id": "c8g4XLzXKrm4"
      },
      "execution_count": null,
      "outputs": []
    },
    {
      "cell_type": "markdown",
      "source": [
        "## 부록) 사전구축 ReAct Agent"
      ],
      "metadata": {
        "id": "VYtcZ21CbhYh"
      }
    },
    {
      "cell_type": "markdown",
      "source": [
        "`create_react_agent` : 중지 조건이 충족될 때까지 루프에서 도구를 호출하는 사전구축 에이전트 그래프"
      ],
      "metadata": {
        "id": "4PLL1cNpeXZT"
      }
    },
    {
      "cell_type": "code",
      "source": [
        "from langgraph.prebuilt import create_react_agent\n",
        "from langchain_openai import ChatOpenAI\n",
        "# from langchain_upstage import ChatUpstage\n",
        "\n",
        "tool = TavilySearch(max_results=2)\n",
        "tools = [tool]\n",
        "\n",
        "llm = ChatOpenAI(model=\"gpt-4o\")\n",
        "# llm = ChatUpstage(model=\"solar-pro-250422\")\n",
        "agent = create_react_agent(llm, tools)"
      ],
      "metadata": {
        "id": "sRCQa8n1bkBi"
      },
      "execution_count": null,
      "outputs": []
    },
    {
      "cell_type": "code",
      "source": [
        "agent"
      ],
      "metadata": {
        "id": "KhltckfxcF8P",
        "colab": {
          "base_uri": "https://localhost:8080/",
          "height": 266
        },
        "outputId": "323c592c-5d69-4c46-d798-e77843181d2b"
      },
      "execution_count": null,
      "outputs": [
        {
          "output_type": "execute_result",
          "data": {
            "text/plain": [
              "<langgraph.graph.state.CompiledStateGraph object at 0x7c828c25f710>"
            ],
            "image/png": "[encoded data removed]"
          },
          "metadata": {},
          "execution_count": 30
        }
      ]
    },
    {
      "cell_type": "code",
      "source": [
        "while True:\n",
        "    try:\n",
        "        user_input = input(\"User: \")\n",
        "        if user_input.lower() in [\"quit\", \"exit\", \"q\"]:\n",
        "            print(\"Goodbye!\")\n",
        "            break\n",
        "\n",
        "        response = agent.invoke({\"messages\": (\"user\", user_input)})\n",
        "        for msg in response[\"messages\"]:\n",
        "            msg.pretty_print()\n",
        "    except:\n",
        "        break"
      ],
      "metadata": {
        "id": "NSwHpns-xnSy",
        "colab": {
          "base_uri": "https://localhost:8080/"
        },
        "outputId": "294e1de1-55fd-42b5-a896-ec47ca08287e"
      },
      "execution_count": null,
      "outputs": [
        {
          "output_type": "stream",
          "name": "stdout",
          "text": [
            "User: AI Agent 에 대해 알려주세요\n",
            "================================\u001b[1m Human Message \u001b[0m=================================\n",
            "\n",
            "AI Agent 에 대해 알려주세요\n",
            "==================================\u001b[1m Ai Message \u001b[0m==================================\n",
            "\n",
            "AI 에이전트는 특정 작업을 자동화하거나 단순화하기 위해 설계된 소프트웨어 프로그램입니다. 이러한 에이전트는 인공지능(Artificial Intelligence) 기술을 기반으로 하며, 사용자의 요구나 환경에 따라 다양한 작업을 수행할 수 있습니다. AI 에이전트는 다음과 같은 주요 특징을 가지고 있습니다.\n",
            "\n",
            "1. **자율성:** AI 에이전트는 인간의 직접적인 개입 없이도 독립적으로 작동할 수 있습니다.\n",
            "2. **학습 능력:** 머신러닝 알고리즘을 사용하여 데이터를 분석하고, 그에 따라 행동을 조정할 수 있습니다.\n",
            "3. **적응력:** 변화하는 환경이나 요구에 따라 적응하여 새로운 상황에서도 효율적으로 작업을 수행할 수 있습니다.\n",
            "4. **상호작용:** 사용자와 또는 다른 시스템과 상호작용하여 필요한 정보를 수집하거나 제공할 수 있습니다.\n",
            "\n",
            "AI 에이전트는 다양한 분야에서 활용되고 있으며, 예를 들어 고객서비스 챗봇, 개인 비서(예: Siri, Alexa), 자동화된 마케팅 솔루션, 혹은 복잡한 데이터 분석을 위한 도구 등으로 사용됩니다. 이러한 에이전트는 기업의 운영을 개선하고 사용자에게 더 나은 서비스를 제공하는데 중요한 역할을 하고 있습니다.\n",
            "User: AI Agent에 대해 검색해서 알려주세요\n",
            "================================\u001b[1m Human Message \u001b[0m=================================\n",
            "\n",
            "AI Agent에 대해 검색해서 알려주세요\n",
            "==================================\u001b[1m Ai Message \u001b[0m==================================\n",
            "Tool Calls:\n",
            "  tavily_search (call_Qnl8MOnVgPVrTvYZGaTH8VA1)\n",
            " Call ID: call_Qnl8MOnVgPVrTvYZGaTH8VA1\n",
            "  Args:\n",
            "    query: AI Agent\n",
            "    search_depth: advanced\n",
            "=================================\u001b[1m Tool Message \u001b[0m=================================\n",
            "Name: tavily_search\n",
            "\n",
            "{\"query\": \"AI Agent\", \"follow_up_questions\": null, \"answer\": null, \"images\": [], \"results\": [{\"url\": \"https://github.com/resources/articles/ai/what-are-ai-agents\", \"title\": \"What are AI agents?\", \"content\": \"An AI agent is an autonomous system designed to perform tasks, make decisions, and adapt based on data and user feedback. It operates independently, automating processes in various fields like software development and security.\\n\\n#### What do AI agents do? [...] - Telecommunications. AI agents are used for network optimization, customer service automation, and predictive maintenance of infrastructure. They help telecom companies manage large-scale networks more efficiently, reduce downtime, and provide personalized customer experiences through AI-powered service agents. [...] - Retail and e-commerce. AI agents are transforming the retail and e-commerce industries by optimizing supply chains, managing inventory, and enhancing customer experiences. For instance, AI agents can predict demand trends, personalize marketing campaigns, and automate customer service interactions through chatbots. These capabilities help retailers reduce costs, improve efficiency, and better meet customer needs.\", \"score\": 0.91813606, \"raw_content\": null}, {\"url\": \"https://www.ibm.com/think/topics/ai-agents\", \"title\": \"What Are AI Agents? | IBM\", \"content\": \"## Authors\\n\\nAnna Gutowska\\n\\nAI Engineer, Developer Advocate\\n\\nIBM\\n\\n## What are AI agents?\\n\\nAn artificial intelligence (AI) agent is a system that autonomously performs tasks by designing workflows with available tools.\\n\\nAI agents can encompass a wide range of functions beyond natural language processing including decision-making, problem-solving, interacting with external environments and performing actions. [...] With the ongoing advancements in generative AI and machine learning, there is a growing interest in workflow optimization through AI, or intelligent automation. AI agents are AI tools that can automate complex tasks that would otherwise require human resources. This shift translates to goals being reached inexpensively, rapidly and at scale. In turn, these advancements mean human agents do not need to provide direction to the AI assistant for creating and navigating its tasks.\", \"score\": 0.91306627, \"raw_content\": null}], \"response_time\": 1.6}\n",
            "==================================\u001b[1m Ai Message \u001b[0m==================================\n",
            "\n",
            "AI 에이전트는 자율적인 시스템으로, 데이터와 사용자 피드백을 기반으로 작업을 수행하고, 결정을 내리며, 상황에 적응하도록 설계되었습니다. AI 에이전트는 독립적으로 작동하며, 소프트웨어 개발과 보안 등 다양한 분야에서 프로세스를 자동화합니다.\n",
            "\n",
            "### AI 에이전트의 주요 기능:\n",
            "1. **전기통신**: AI 에이전트는 네트워크 최적화, 고객 서비스 자동화, 인프라의 예측적 유지 관리에 사용됩니다. 이는 대규모 네트워크 관리를 효율적으로 하고, 다운타임을 줄이며, 맞춤형 고객 경험을 제공할 수 있도록 돕습니다.\n",
            "\n",
            "2. **소매 및 전자상거래**: AI 에이전트는 공급망을 최적화하고, 재고를 관리하며, 고객 경험을 향상시켜 소매 및 전자상거래 업계를 변화시키고 있습니다. 예를 들어, 수요 추세를 예측하고, 마케팅 캠페인을 개인화하며, 챗봇을 통해 고객 서비스 상호작용을 자동화할 수 있습니다.\n",
            "\n",
            "AI 에이전트는 자연어 처리 외에도 의사 결정, 문제 해결, 외부 환경과의 상호작용 및 작업 수행 등 다양한 기능을 포괄합니다. 이러한 발전은 사람의 리소스를 요구하는 복잡한 작업을 자동화할 수 있게 합니다.\n",
            "User: 업스테이지 커널 아카데미가 뭔가요?\n",
            "================================\u001b[1m Human Message \u001b[0m=================================\n",
            "\n",
            "업스테이지 커널 아카데미가 뭔가요?\n",
            "==================================\u001b[1m Ai Message \u001b[0m==================================\n",
            "Tool Calls:\n",
            "  tavily_search (call_MJHdQOg6mZw5jK1OU8xsInjw)\n",
            " Call ID: call_MJHdQOg6mZw5jK1OU8xsInjw\n",
            "  Args:\n",
            "    query: 업스테이지 커널 아카데미\n",
            "=================================\u001b[1m Tool Message \u001b[0m=================================\n",
            "Name: tavily_search\n",
            "\n",
            "{\"query\": \"업스테이지 커널 아카데미\", \"follow_up_questions\": null, \"answer\": null, \"images\": [], \"results\": [{\"url\": \"https://fastcampus.co.kr/b2g_kdigitaltraining_ai\", \"title\": \"커널 아카데미 : AI 개발 부트캠프 (w. Upstage) - 패스트캠퍼스\", \"content\": \"**AI 취업, 실제 기업에서 실무 경험을 쌓을 수 있도록 커널 아카데미와 파트너사를 맺은 AI 스타트업에 최대 2개월간 출근하는 인턴십 연계 기회를 제공합니다. ✓ AI 모델 배포 및 지속적 개선 경험 실무 완전 정복** ✓ LLM, Stable Diffusion 등 최신 생성형 AI 모델 연구 ✓ AI 모델 성능 최적화와 서비스 적용 경험 ✓ AI 서비스 개발 프로젝트 강화 · LangChain을 활용해 대화형 AI 모델 및 RAG 기반 응용 시스템을 구축합니다. · 실제 AI 프로젝트에 참여하며 산업계에서의 문제 해결 능력을 배양합니다. 이를 통해 AI 기술을 활용한 실제 문제 해결 및 프로젝트에 바로 기여할 수 있습니다. AI 기술을 실무에 적용하고 프로젝트를 리딩할 수 있는 회사 현장에서 배우는 인턴십 프로그램을 통해 AI 실무 역량을 완성합니다. 커널 아카데미 AI 부트캠프는 3단계의 간단한 절차를 통해 함께할 수 있습니다.\", \"score\": 0.767429, \"raw_content\": null}, {\"url\": \"https://zdnet.co.kr/view/?no=20250220112418\", \"title\": \"데이원컴퍼니-업스테이지, AI 인재 키운다 - 지디넷코리아\", \"content\": \"이 프로그램은 지금까지 900명 이상의 수료생을 배출했으며, 수료 후 6개월 이내 취업률이 86%에 달하는 검증된 교육과정이다. 커널 아카데미 AI 부트캠프\", \"score\": 0.5962692, \"raw_content\": null}], \"response_time\": 1.21}\n",
            "==================================\u001b[1m Ai Message \u001b[0m==================================\n",
            "\n",
            "업스테이지 커널 아카데미는 패스트캠퍼스와 함께 운영되는 AI 개발 부트캠프입니다. 이 프로그램은 AI 취업을 목표로 실제 기업에서 실무 경험을 쌓을 수 있도록 설계되어 있으며, AI 스타트업과의 인턴십 기회를 제공합니다. 참가자들은 AI 모델 배포 및 최적화, LLM, Stable Diffusion 등 최신 생성형 AI 모델의 연구, AI 서비스 개발 프로젝트 등의 실제 AI 프로젝트에 참여하게 됩니다. 이를 통해 산업계에서의 문제 해결 능력을 기르고, AI 기술을 실무에 적용할 수 있는 역량을 강화합니다. 커널 아카데미는 총 900명 이상의 수료생을 배출했으며, 수료 후 6개월 이내에 86%의 취업률을 자랑하는 검증된 교육과정입니다.\n",
            "User: q\n",
            "Goodbye!\n"
          ]
        }
      ]
    },
    {
      "cell_type": "code",
      "source": [],
      "metadata": {
        "id": "3sl8l6XNxppQ"
      },
      "execution_count": null,
      "outputs": []
    }
  ]
}